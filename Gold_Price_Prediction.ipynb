{
  "nbformat": 4,
  "nbformat_minor": 0,
  "metadata": {
    "colab": {
      "provenance": [],
      "collapsed_sections": [
        "wgma24QgrA6W",
        "Rnvjn-ZWYoT4"
      ]
    },
    "kernelspec": {
      "name": "python3",
      "display_name": "Python 3"
    },
    "language_info": {
      "name": "python"
    }
  },
  "cells": [
    {
      "cell_type": "code",
      "source": [
        "pip install yfinance"
      ],
      "metadata": {
        "colab": {
          "base_uri": "https://localhost:8080/"
        },
        "id": "zJ8w3Gs-hP4Y",
        "outputId": "b9b1aa9b-5a4b-4767-f43c-068602eda097"
      },
      "execution_count": null,
      "outputs": [
        {
          "output_type": "stream",
          "name": "stdout",
          "text": [
            "Requirement already satisfied: yfinance in /usr/local/lib/python3.11/dist-packages (0.2.61)\n",
            "Requirement already satisfied: pandas>=1.3.0 in /usr/local/lib/python3.11/dist-packages (from yfinance) (2.2.2)\n",
            "Requirement already satisfied: numpy>=1.16.5 in /usr/local/lib/python3.11/dist-packages (from yfinance) (2.0.2)\n",
            "Requirement already satisfied: requests>=2.31 in /usr/local/lib/python3.11/dist-packages (from yfinance) (2.32.3)\n",
            "Requirement already satisfied: multitasking>=0.0.7 in /usr/local/lib/python3.11/dist-packages (from yfinance) (0.0.11)\n",
            "Requirement already satisfied: platformdirs>=2.0.0 in /usr/local/lib/python3.11/dist-packages (from yfinance) (4.3.8)\n",
            "Requirement already satisfied: pytz>=2022.5 in /usr/local/lib/python3.11/dist-packages (from yfinance) (2025.2)\n",
            "Requirement already satisfied: frozendict>=2.3.4 in /usr/local/lib/python3.11/dist-packages (from yfinance) (2.4.6)\n",
            "Requirement already satisfied: peewee>=3.16.2 in /usr/local/lib/python3.11/dist-packages (from yfinance) (3.18.1)\n",
            "Requirement already satisfied: beautifulsoup4>=4.11.1 in /usr/local/lib/python3.11/dist-packages (from yfinance) (4.13.4)\n",
            "Requirement already satisfied: curl_cffi>=0.7 in /usr/local/lib/python3.11/dist-packages (from yfinance) (0.10.0)\n",
            "Requirement already satisfied: protobuf>=3.19.0 in /usr/local/lib/python3.11/dist-packages (from yfinance) (5.29.4)\n",
            "Requirement already satisfied: websockets>=13.0 in /usr/local/lib/python3.11/dist-packages (from yfinance) (15.0.1)\n",
            "Requirement already satisfied: soupsieve>1.2 in /usr/local/lib/python3.11/dist-packages (from beautifulsoup4>=4.11.1->yfinance) (2.7)\n",
            "Requirement already satisfied: typing-extensions>=4.0.0 in /usr/local/lib/python3.11/dist-packages (from beautifulsoup4>=4.11.1->yfinance) (4.13.2)\n",
            "Requirement already satisfied: cffi>=1.12.0 in /usr/local/lib/python3.11/dist-packages (from curl_cffi>=0.7->yfinance) (1.17.1)\n",
            "Requirement already satisfied: certifi>=2024.2.2 in /usr/local/lib/python3.11/dist-packages (from curl_cffi>=0.7->yfinance) (2025.4.26)\n",
            "Requirement already satisfied: python-dateutil>=2.8.2 in /usr/local/lib/python3.11/dist-packages (from pandas>=1.3.0->yfinance) (2.9.0.post0)\n",
            "Requirement already satisfied: tzdata>=2022.7 in /usr/local/lib/python3.11/dist-packages (from pandas>=1.3.0->yfinance) (2025.2)\n",
            "Requirement already satisfied: charset-normalizer<4,>=2 in /usr/local/lib/python3.11/dist-packages (from requests>=2.31->yfinance) (3.4.2)\n",
            "Requirement already satisfied: idna<4,>=2.5 in /usr/local/lib/python3.11/dist-packages (from requests>=2.31->yfinance) (3.10)\n",
            "Requirement already satisfied: urllib3<3,>=1.21.1 in /usr/local/lib/python3.11/dist-packages (from requests>=2.31->yfinance) (2.4.0)\n",
            "Requirement already satisfied: pycparser in /usr/local/lib/python3.11/dist-packages (from cffi>=1.12.0->curl_cffi>=0.7->yfinance) (2.22)\n",
            "Requirement already satisfied: six>=1.5 in /usr/local/lib/python3.11/dist-packages (from python-dateutil>=2.8.2->pandas>=1.3.0->yfinance) (1.17.0)\n"
          ]
        }
      ]
    },
    {
      "cell_type": "code",
      "source": [
        "import yfinance as yf\n",
        "\n",
        "# Define the ticker symbol for the gold ETF in INR\n",
        "ticker = \"IVZINGOLD.BO\"\n",
        "\n",
        "# Download historical data from 1 Jan 2015 to 23 May 2025\n",
        "data = yf.download(ticker, start=\"2015-01-01\", end=\"2025-05-23\")\n",
        "\n",
        "# Save the data to a CSV file\n",
        "data.to_csv(\"gold_price_in_inr.csv\")"
      ],
      "metadata": {
        "colab": {
          "base_uri": "https://localhost:8080/"
        },
        "id": "TWWXkeQ-hP1s",
        "outputId": "325b8813-8641-46f3-afc6-4d9cd3dd0a36"
      },
      "execution_count": null,
      "outputs": [
        {
          "output_type": "stream",
          "name": "stdout",
          "text": [
            "YF.download() has changed argument auto_adjust default to True\n"
          ]
        },
        {
          "output_type": "stream",
          "name": "stderr",
          "text": [
            "\r[*********************100%***********************]  1 of 1 completed\n"
          ]
        }
      ]
    },
    {
      "cell_type": "markdown",
      "source": [
        "## Import necessary libraries"
      ],
      "metadata": {
        "id": "R4BivVqfVGLj"
      }
    },
    {
      "cell_type": "code",
      "source": [
        "import pandas as pd\n",
        "import numpy as np\n",
        "from sklearn.model_selection import train_test_split\n",
        "from sklearn.preprocessing import StandardScaler\n",
        "from sklearn.linear_model import LinearRegression\n",
        "from sklearn.metrics import mean_squared_error, r2_score\n",
        "import matplotlib.pyplot as plt"
      ],
      "metadata": {
        "id": "6Uohzp4LVFNJ"
      },
      "execution_count": 1,
      "outputs": []
    },
    {
      "cell_type": "markdown",
      "source": [
        "## Load the dataset"
      ],
      "metadata": {
        "id": "_vi_AuBNVJpP"
      }
    },
    {
      "cell_type": "code",
      "source": [
        "data = pd.read_csv('gold_price_in_inr.csv')"
      ],
      "metadata": {
        "id": "zw19If0GVLVh"
      },
      "execution_count": 2,
      "outputs": []
    },
    {
      "cell_type": "markdown",
      "source": [
        "## Verify column names"
      ],
      "metadata": {
        "id": "4thfCivHVLlf"
      }
    },
    {
      "cell_type": "code",
      "source": [
        "print(\"Column names:\", data.columns.tolist())"
      ],
      "metadata": {
        "colab": {
          "base_uri": "https://localhost:8080/"
        },
        "id": "TOJdGod0VL4_",
        "outputId": "b03d653c-6098-41e6-f467-008df95437c9"
      },
      "execution_count": 3,
      "outputs": [
        {
          "output_type": "stream",
          "name": "stdout",
          "text": [
            "Column names: ['Date', 'Close', 'High', 'Low', 'Open', 'Volume']\n"
          ]
        }
      ]
    },
    {
      "cell_type": "markdown",
      "source": [
        "## Convert Date to datetime"
      ],
      "metadata": {
        "id": "d0JBJB5EVRJw"
      }
    },
    {
      "cell_type": "code",
      "source": [
        "data['Date'] = pd.to_datetime(data['Date'], format='%d-%m-%Y')"
      ],
      "metadata": {
        "id": "wmoaZxtjVS_M"
      },
      "execution_count": 4,
      "outputs": []
    },
    {
      "cell_type": "markdown",
      "source": [
        "## Check for non-numeric values and data types"
      ],
      "metadata": {
        "id": "scGn8AcrVVNx"
      }
    },
    {
      "cell_type": "code",
      "source": [
        "print(\"Data types before conversion:\\n\", data.dtypes)\n",
        "print(\"Sample of numerical columns:\\n\", data[['Close', 'High', 'Low', 'Open', 'Volume']].head())"
      ],
      "metadata": {
        "colab": {
          "base_uri": "https://localhost:8080/"
        },
        "id": "3YMi2U0ZVUhX",
        "outputId": "e5b30b92-ec12-4dda-fd76-fbd5d2d58ac8"
      },
      "execution_count": 5,
      "outputs": [
        {
          "output_type": "stream",
          "name": "stdout",
          "text": [
            "Data types before conversion:\n",
            " Date      datetime64[ns]\n",
            "Close            float64\n",
            "High             float64\n",
            "Low              float64\n",
            "Open             float64\n",
            "Volume             int64\n",
            "dtype: object\n",
            "Sample of numerical columns:\n",
            "          Close         High          Low         Open  Volume\n",
            "0  2519.949951  2580.000000  2510.000000  2580.000000      10\n",
            "1  2519.949951  2519.949951  2519.949951  2519.949951       0\n",
            "2  2540.000000  2544.909912  2515.149902  2520.000000      30\n",
            "3  2527.060059  2527.060059  2527.060059  2527.060059      78\n",
            "4  2584.000000  2584.000000  2578.000000  2578.000000       3\n"
          ]
        }
      ]
    },
    {
      "cell_type": "markdown",
      "source": [
        "## Convert numerical columns to float, handling any potential issues"
      ],
      "metadata": {
        "id": "NwqSKDgZVUwN"
      }
    },
    {
      "cell_type": "code",
      "source": [
        "for col in ['Close', 'High', 'Low', 'Open', 'Volume']:\n",
        "    data[col] = pd.to_numeric(data[col], errors='coerce')"
      ],
      "metadata": {
        "id": "zN8FfDaqVfTM"
      },
      "execution_count": 6,
      "outputs": []
    },
    {
      "cell_type": "markdown",
      "source": [
        "## Feature Engineering: Extract temporal features"
      ],
      "metadata": {
        "id": "BDzbZSVJVlMA"
      }
    },
    {
      "cell_type": "code",
      "source": [
        "data['Year'] = data['Date'].dt.year\n",
        "data['Month'] = data['Date'].dt.month\n",
        "data['Day'] = data['Date'].dt.day\n",
        "data['DayOfWeek'] = data['Date'].dt.dayofweek"
      ],
      "metadata": {
        "id": "adW7GZpFVin9"
      },
      "execution_count": 7,
      "outputs": []
    },
    {
      "cell_type": "markdown",
      "source": [
        "## Add lagged feature (previous day's Close price)"
      ],
      "metadata": {
        "id": "0Xm_orbhVoBh"
      }
    },
    {
      "cell_type": "code",
      "source": [
        "data['Close_Lag1'] = data['Close'].shift(1)"
      ],
      "metadata": {
        "id": "OrFvkDdOVqVr"
      },
      "execution_count": 8,
      "outputs": []
    },
    {
      "cell_type": "markdown",
      "source": [
        "## Add 7-day moving average to capture trends"
      ],
      "metadata": {
        "id": "4CCIPrRnVs8O"
      }
    },
    {
      "cell_type": "code",
      "source": [
        "data['MA7'] = data['Close'].rolling(window=7).mean()"
      ],
      "metadata": {
        "id": "oKGLV4uYVt6n"
      },
      "execution_count": 9,
      "outputs": []
    },
    {
      "cell_type": "markdown",
      "source": [
        "## Drop rows with NaN values (due to lagging or rolling calculations)"
      ],
      "metadata": {
        "id": "GhyoWKMpVvUx"
      }
    },
    {
      "cell_type": "code",
      "source": [
        "data = data.dropna()"
      ],
      "metadata": {
        "id": "YpgTulE8Vxbb"
      },
      "execution_count": 10,
      "outputs": []
    },
    {
      "cell_type": "markdown",
      "source": [
        "## Check for remaining NaN values"
      ],
      "metadata": {
        "id": "dcOOVWpPVzyX"
      }
    },
    {
      "cell_type": "code",
      "source": [
        "print(\"Missing values after preprocessing:\\n\", data.isnull().sum())"
      ],
      "metadata": {
        "colab": {
          "base_uri": "https://localhost:8080/"
        },
        "id": "XI7Dg_IcV06I",
        "outputId": "a4eefc38-24fd-4961-e29e-c57619d72db1"
      },
      "execution_count": 11,
      "outputs": [
        {
          "output_type": "stream",
          "name": "stdout",
          "text": [
            "Missing values after preprocessing:\n",
            " Date          0\n",
            "Close         0\n",
            "High          0\n",
            "Low           0\n",
            "Open          0\n",
            "Volume        0\n",
            "Year          0\n",
            "Month         0\n",
            "Day           0\n",
            "DayOfWeek     0\n",
            "Close_Lag1    0\n",
            "MA7           0\n",
            "dtype: int64\n"
          ]
        }
      ]
    },
    {
      "cell_type": "markdown",
      "source": [
        "## Define features and target"
      ],
      "metadata": {
        "id": "16TlbJBMV35_"
      }
    },
    {
      "cell_type": "code",
      "source": [
        "features = ['Open', 'High', 'Low', 'Volume', 'Year', 'Month', 'Day', 'DayOfWeek', 'Close_Lag1', 'MA7']\n",
        "X = data[features]\n",
        "y = data['Close']"
      ],
      "metadata": {
        "id": "p7oSC5zCV5Tn"
      },
      "execution_count": 12,
      "outputs": []
    },
    {
      "cell_type": "markdown",
      "source": [
        "## Split data into training and testing sets (80-20 split)"
      ],
      "metadata": {
        "id": "6zaejkQcV7SS"
      }
    },
    {
      "cell_type": "code",
      "source": [
        "train_size = int(0.8 * len(data))\n",
        "X_train, X_test = X.iloc[:train_size], X.iloc[train_size:]\n",
        "y_train, y_test = y.iloc[:train_size], y.iloc[train_size:]\n",
        "test_dates = data['Date'].iloc[train_size:]"
      ],
      "metadata": {
        "id": "TRVXFCjuV9hR"
      },
      "execution_count": 13,
      "outputs": []
    },
    {
      "cell_type": "markdown",
      "source": [
        "## Scale numerical features"
      ],
      "metadata": {
        "id": "E-H5Zs7oV_Fw"
      }
    },
    {
      "cell_type": "code",
      "source": [
        "scaler = StandardScaler()\n",
        "X_train_scaled = scaler.fit_transform(X_train)\n",
        "X_test_scaled = scaler.transform(X_test)"
      ],
      "metadata": {
        "id": "pr_TRx4IV_hm"
      },
      "execution_count": 14,
      "outputs": []
    },
    {
      "cell_type": "markdown",
      "source": [
        "# Using GridSearchCV to check which model is best for our dataset"
      ],
      "metadata": {
        "id": "pqwR20mKfnA8"
      }
    },
    {
      "cell_type": "code",
      "source": [
        "from sklearn.linear_model import LinearRegression, Ridge, Lasso\n",
        "from sklearn.ensemble import RandomForestRegressor, GradientBoostingRegressor\n",
        "from sklearn.svm import SVR\n",
        "from sklearn.model_selection import GridSearchCV\n",
        "from sklearn.metrics import make_scorer, mean_squared_error\n",
        "\n",
        "# Define models and parameters\n",
        "models = {\n",
        "    'LinearRegression': (LinearRegression(), {}),\n",
        "    'Ridge': (Ridge(), {'alpha': [0.1, 1.0, 10.0]}),\n",
        "    'Lasso': (Lasso(), {'alpha': [0.1, 1.0, 10.0]}),\n",
        "    'RandomForest': (RandomForestRegressor(), {'n_estimators': [50, 100], 'max_depth': [5, 10, None]}),\n",
        "    'GradientBoosting': (GradientBoostingRegressor(), {'n_estimators': [50, 100], 'learning_rate': [0.05, 0.1]}),\n",
        "    'SVR': (SVR(), {'C': [1, 10], 'gamma': ['scale', 'auto']})\n",
        "}\n",
        "\n",
        "# Store results\n",
        "best_models = {}\n",
        "for name, (model, params) in models.items():\n",
        "    grid = GridSearchCV(model, params, cv=5, scoring='neg_mean_squared_error', n_jobs=-1)\n",
        "    grid.fit(X_train_scaled, y_train)\n",
        "    best_models[name] = (grid.best_estimator_, -grid.best_score_)\n",
        "    print(f\"{name}: Best Score (MSE) = {-grid.best_score_:.4f}\")\n",
        "\n",
        "# Select the best one\n",
        "best_model_name = min(best_models, key=lambda x: best_models[x][1])\n",
        "print(f\"\\n✅ Best Model: {best_model_name} with MSE = {best_models[best_model_name][1]:.4f}\")\n"
      ],
      "metadata": {
        "colab": {
          "base_uri": "https://localhost:8080/"
        },
        "id": "QN6ITt0DfqQT",
        "outputId": "10530e8d-f02a-4e44-ddbc-2383ff19e056"
      },
      "execution_count": 15,
      "outputs": [
        {
          "output_type": "stream",
          "name": "stdout",
          "text": [
            "LinearRegression: Best Score (MSE) = 263.7881\n",
            "Ridge: Best Score (MSE) = 271.8671\n"
          ]
        },
        {
          "output_type": "stream",
          "name": "stderr",
          "text": [
            "/usr/local/lib/python3.11/dist-packages/sklearn/linear_model/_coordinate_descent.py:695: ConvergenceWarning: Objective did not converge. You might want to increase the number of iterations, check the scale of the features or consider increasing regularisation. Duality gap: 4.467e+05, tolerance: 1.619e+05\n",
            "  model = cd_fast.enet_coordinate_descent(\n"
          ]
        },
        {
          "output_type": "stream",
          "name": "stdout",
          "text": [
            "Lasso: Best Score (MSE) = 508.1265\n",
            "RandomForest: Best Score (MSE) = 6747.1957\n",
            "GradientBoosting: Best Score (MSE) = 9573.3741\n",
            "SVR: Best Score (MSE) = 122583.6327\n",
            "\n",
            "✅ Best Model: LinearRegression with MSE = 263.7881\n"
          ]
        }
      ]
    },
    {
      "cell_type": "markdown",
      "source": [
        "# **Linear Regression**"
      ],
      "metadata": {
        "id": "eNLE5H4TVAIN"
      }
    },
    {
      "cell_type": "markdown",
      "source": [
        "## Train Linear Regression model"
      ],
      "metadata": {
        "id": "mUYhFlH1V_yd"
      }
    },
    {
      "cell_type": "code",
      "source": [
        "model = LinearRegression()\n",
        "model.fit(X_train_scaled, y_train)"
      ],
      "metadata": {
        "colab": {
          "base_uri": "https://localhost:8080/",
          "height": 80
        },
        "id": "pOGZrcZKWAIr",
        "outputId": "df3ad0c3-fe3e-4182-9b91-abe0de9fd024"
      },
      "execution_count": 16,
      "outputs": [
        {
          "output_type": "execute_result",
          "data": {
            "text/plain": [
              "LinearRegression()"
            ],
            "text/html": [
              "<style>#sk-container-id-1 {\n",
              "  /* Definition of color scheme common for light and dark mode */\n",
              "  --sklearn-color-text: #000;\n",
              "  --sklearn-color-text-muted: #666;\n",
              "  --sklearn-color-line: gray;\n",
              "  /* Definition of color scheme for unfitted estimators */\n",
              "  --sklearn-color-unfitted-level-0: #fff5e6;\n",
              "  --sklearn-color-unfitted-level-1: #f6e4d2;\n",
              "  --sklearn-color-unfitted-level-2: #ffe0b3;\n",
              "  --sklearn-color-unfitted-level-3: chocolate;\n",
              "  /* Definition of color scheme for fitted estimators */\n",
              "  --sklearn-color-fitted-level-0: #f0f8ff;\n",
              "  --sklearn-color-fitted-level-1: #d4ebff;\n",
              "  --sklearn-color-fitted-level-2: #b3dbfd;\n",
              "  --sklearn-color-fitted-level-3: cornflowerblue;\n",
              "\n",
              "  /* Specific color for light theme */\n",
              "  --sklearn-color-text-on-default-background: var(--sg-text-color, var(--theme-code-foreground, var(--jp-content-font-color1, black)));\n",
              "  --sklearn-color-background: var(--sg-background-color, var(--theme-background, var(--jp-layout-color0, white)));\n",
              "  --sklearn-color-border-box: var(--sg-text-color, var(--theme-code-foreground, var(--jp-content-font-color1, black)));\n",
              "  --sklearn-color-icon: #696969;\n",
              "\n",
              "  @media (prefers-color-scheme: dark) {\n",
              "    /* Redefinition of color scheme for dark theme */\n",
              "    --sklearn-color-text-on-default-background: var(--sg-text-color, var(--theme-code-foreground, var(--jp-content-font-color1, white)));\n",
              "    --sklearn-color-background: var(--sg-background-color, var(--theme-background, var(--jp-layout-color0, #111)));\n",
              "    --sklearn-color-border-box: var(--sg-text-color, var(--theme-code-foreground, var(--jp-content-font-color1, white)));\n",
              "    --sklearn-color-icon: #878787;\n",
              "  }\n",
              "}\n",
              "\n",
              "#sk-container-id-1 {\n",
              "  color: var(--sklearn-color-text);\n",
              "}\n",
              "\n",
              "#sk-container-id-1 pre {\n",
              "  padding: 0;\n",
              "}\n",
              "\n",
              "#sk-container-id-1 input.sk-hidden--visually {\n",
              "  border: 0;\n",
              "  clip: rect(1px 1px 1px 1px);\n",
              "  clip: rect(1px, 1px, 1px, 1px);\n",
              "  height: 1px;\n",
              "  margin: -1px;\n",
              "  overflow: hidden;\n",
              "  padding: 0;\n",
              "  position: absolute;\n",
              "  width: 1px;\n",
              "}\n",
              "\n",
              "#sk-container-id-1 div.sk-dashed-wrapped {\n",
              "  border: 1px dashed var(--sklearn-color-line);\n",
              "  margin: 0 0.4em 0.5em 0.4em;\n",
              "  box-sizing: border-box;\n",
              "  padding-bottom: 0.4em;\n",
              "  background-color: var(--sklearn-color-background);\n",
              "}\n",
              "\n",
              "#sk-container-id-1 div.sk-container {\n",
              "  /* jupyter's `normalize.less` sets `[hidden] { display: none; }`\n",
              "     but bootstrap.min.css set `[hidden] { display: none !important; }`\n",
              "     so we also need the `!important` here to be able to override the\n",
              "     default hidden behavior on the sphinx rendered scikit-learn.org.\n",
              "     See: https://github.com/scikit-learn/scikit-learn/issues/21755 */\n",
              "  display: inline-block !important;\n",
              "  position: relative;\n",
              "}\n",
              "\n",
              "#sk-container-id-1 div.sk-text-repr-fallback {\n",
              "  display: none;\n",
              "}\n",
              "\n",
              "div.sk-parallel-item,\n",
              "div.sk-serial,\n",
              "div.sk-item {\n",
              "  /* draw centered vertical line to link estimators */\n",
              "  background-image: linear-gradient(var(--sklearn-color-text-on-default-background), var(--sklearn-color-text-on-default-background));\n",
              "  background-size: 2px 100%;\n",
              "  background-repeat: no-repeat;\n",
              "  background-position: center center;\n",
              "}\n",
              "\n",
              "/* Parallel-specific style estimator block */\n",
              "\n",
              "#sk-container-id-1 div.sk-parallel-item::after {\n",
              "  content: \"\";\n",
              "  width: 100%;\n",
              "  border-bottom: 2px solid var(--sklearn-color-text-on-default-background);\n",
              "  flex-grow: 1;\n",
              "}\n",
              "\n",
              "#sk-container-id-1 div.sk-parallel {\n",
              "  display: flex;\n",
              "  align-items: stretch;\n",
              "  justify-content: center;\n",
              "  background-color: var(--sklearn-color-background);\n",
              "  position: relative;\n",
              "}\n",
              "\n",
              "#sk-container-id-1 div.sk-parallel-item {\n",
              "  display: flex;\n",
              "  flex-direction: column;\n",
              "}\n",
              "\n",
              "#sk-container-id-1 div.sk-parallel-item:first-child::after {\n",
              "  align-self: flex-end;\n",
              "  width: 50%;\n",
              "}\n",
              "\n",
              "#sk-container-id-1 div.sk-parallel-item:last-child::after {\n",
              "  align-self: flex-start;\n",
              "  width: 50%;\n",
              "}\n",
              "\n",
              "#sk-container-id-1 div.sk-parallel-item:only-child::after {\n",
              "  width: 0;\n",
              "}\n",
              "\n",
              "/* Serial-specific style estimator block */\n",
              "\n",
              "#sk-container-id-1 div.sk-serial {\n",
              "  display: flex;\n",
              "  flex-direction: column;\n",
              "  align-items: center;\n",
              "  background-color: var(--sklearn-color-background);\n",
              "  padding-right: 1em;\n",
              "  padding-left: 1em;\n",
              "}\n",
              "\n",
              "\n",
              "/* Toggleable style: style used for estimator/Pipeline/ColumnTransformer box that is\n",
              "clickable and can be expanded/collapsed.\n",
              "- Pipeline and ColumnTransformer use this feature and define the default style\n",
              "- Estimators will overwrite some part of the style using the `sk-estimator` class\n",
              "*/\n",
              "\n",
              "/* Pipeline and ColumnTransformer style (default) */\n",
              "\n",
              "#sk-container-id-1 div.sk-toggleable {\n",
              "  /* Default theme specific background. It is overwritten whether we have a\n",
              "  specific estimator or a Pipeline/ColumnTransformer */\n",
              "  background-color: var(--sklearn-color-background);\n",
              "}\n",
              "\n",
              "/* Toggleable label */\n",
              "#sk-container-id-1 label.sk-toggleable__label {\n",
              "  cursor: pointer;\n",
              "  display: flex;\n",
              "  width: 100%;\n",
              "  margin-bottom: 0;\n",
              "  padding: 0.5em;\n",
              "  box-sizing: border-box;\n",
              "  text-align: center;\n",
              "  align-items: start;\n",
              "  justify-content: space-between;\n",
              "  gap: 0.5em;\n",
              "}\n",
              "\n",
              "#sk-container-id-1 label.sk-toggleable__label .caption {\n",
              "  font-size: 0.6rem;\n",
              "  font-weight: lighter;\n",
              "  color: var(--sklearn-color-text-muted);\n",
              "}\n",
              "\n",
              "#sk-container-id-1 label.sk-toggleable__label-arrow:before {\n",
              "  /* Arrow on the left of the label */\n",
              "  content: \"▸\";\n",
              "  float: left;\n",
              "  margin-right: 0.25em;\n",
              "  color: var(--sklearn-color-icon);\n",
              "}\n",
              "\n",
              "#sk-container-id-1 label.sk-toggleable__label-arrow:hover:before {\n",
              "  color: var(--sklearn-color-text);\n",
              "}\n",
              "\n",
              "/* Toggleable content - dropdown */\n",
              "\n",
              "#sk-container-id-1 div.sk-toggleable__content {\n",
              "  max-height: 0;\n",
              "  max-width: 0;\n",
              "  overflow: hidden;\n",
              "  text-align: left;\n",
              "  /* unfitted */\n",
              "  background-color: var(--sklearn-color-unfitted-level-0);\n",
              "}\n",
              "\n",
              "#sk-container-id-1 div.sk-toggleable__content.fitted {\n",
              "  /* fitted */\n",
              "  background-color: var(--sklearn-color-fitted-level-0);\n",
              "}\n",
              "\n",
              "#sk-container-id-1 div.sk-toggleable__content pre {\n",
              "  margin: 0.2em;\n",
              "  border-radius: 0.25em;\n",
              "  color: var(--sklearn-color-text);\n",
              "  /* unfitted */\n",
              "  background-color: var(--sklearn-color-unfitted-level-0);\n",
              "}\n",
              "\n",
              "#sk-container-id-1 div.sk-toggleable__content.fitted pre {\n",
              "  /* unfitted */\n",
              "  background-color: var(--sklearn-color-fitted-level-0);\n",
              "}\n",
              "\n",
              "#sk-container-id-1 input.sk-toggleable__control:checked~div.sk-toggleable__content {\n",
              "  /* Expand drop-down */\n",
              "  max-height: 200px;\n",
              "  max-width: 100%;\n",
              "  overflow: auto;\n",
              "}\n",
              "\n",
              "#sk-container-id-1 input.sk-toggleable__control:checked~label.sk-toggleable__label-arrow:before {\n",
              "  content: \"▾\";\n",
              "}\n",
              "\n",
              "/* Pipeline/ColumnTransformer-specific style */\n",
              "\n",
              "#sk-container-id-1 div.sk-label input.sk-toggleable__control:checked~label.sk-toggleable__label {\n",
              "  color: var(--sklearn-color-text);\n",
              "  background-color: var(--sklearn-color-unfitted-level-2);\n",
              "}\n",
              "\n",
              "#sk-container-id-1 div.sk-label.fitted input.sk-toggleable__control:checked~label.sk-toggleable__label {\n",
              "  background-color: var(--sklearn-color-fitted-level-2);\n",
              "}\n",
              "\n",
              "/* Estimator-specific style */\n",
              "\n",
              "/* Colorize estimator box */\n",
              "#sk-container-id-1 div.sk-estimator input.sk-toggleable__control:checked~label.sk-toggleable__label {\n",
              "  /* unfitted */\n",
              "  background-color: var(--sklearn-color-unfitted-level-2);\n",
              "}\n",
              "\n",
              "#sk-container-id-1 div.sk-estimator.fitted input.sk-toggleable__control:checked~label.sk-toggleable__label {\n",
              "  /* fitted */\n",
              "  background-color: var(--sklearn-color-fitted-level-2);\n",
              "}\n",
              "\n",
              "#sk-container-id-1 div.sk-label label.sk-toggleable__label,\n",
              "#sk-container-id-1 div.sk-label label {\n",
              "  /* The background is the default theme color */\n",
              "  color: var(--sklearn-color-text-on-default-background);\n",
              "}\n",
              "\n",
              "/* On hover, darken the color of the background */\n",
              "#sk-container-id-1 div.sk-label:hover label.sk-toggleable__label {\n",
              "  color: var(--sklearn-color-text);\n",
              "  background-color: var(--sklearn-color-unfitted-level-2);\n",
              "}\n",
              "\n",
              "/* Label box, darken color on hover, fitted */\n",
              "#sk-container-id-1 div.sk-label.fitted:hover label.sk-toggleable__label.fitted {\n",
              "  color: var(--sklearn-color-text);\n",
              "  background-color: var(--sklearn-color-fitted-level-2);\n",
              "}\n",
              "\n",
              "/* Estimator label */\n",
              "\n",
              "#sk-container-id-1 div.sk-label label {\n",
              "  font-family: monospace;\n",
              "  font-weight: bold;\n",
              "  display: inline-block;\n",
              "  line-height: 1.2em;\n",
              "}\n",
              "\n",
              "#sk-container-id-1 div.sk-label-container {\n",
              "  text-align: center;\n",
              "}\n",
              "\n",
              "/* Estimator-specific */\n",
              "#sk-container-id-1 div.sk-estimator {\n",
              "  font-family: monospace;\n",
              "  border: 1px dotted var(--sklearn-color-border-box);\n",
              "  border-radius: 0.25em;\n",
              "  box-sizing: border-box;\n",
              "  margin-bottom: 0.5em;\n",
              "  /* unfitted */\n",
              "  background-color: var(--sklearn-color-unfitted-level-0);\n",
              "}\n",
              "\n",
              "#sk-container-id-1 div.sk-estimator.fitted {\n",
              "  /* fitted */\n",
              "  background-color: var(--sklearn-color-fitted-level-0);\n",
              "}\n",
              "\n",
              "/* on hover */\n",
              "#sk-container-id-1 div.sk-estimator:hover {\n",
              "  /* unfitted */\n",
              "  background-color: var(--sklearn-color-unfitted-level-2);\n",
              "}\n",
              "\n",
              "#sk-container-id-1 div.sk-estimator.fitted:hover {\n",
              "  /* fitted */\n",
              "  background-color: var(--sklearn-color-fitted-level-2);\n",
              "}\n",
              "\n",
              "/* Specification for estimator info (e.g. \"i\" and \"?\") */\n",
              "\n",
              "/* Common style for \"i\" and \"?\" */\n",
              "\n",
              ".sk-estimator-doc-link,\n",
              "a:link.sk-estimator-doc-link,\n",
              "a:visited.sk-estimator-doc-link {\n",
              "  float: right;\n",
              "  font-size: smaller;\n",
              "  line-height: 1em;\n",
              "  font-family: monospace;\n",
              "  background-color: var(--sklearn-color-background);\n",
              "  border-radius: 1em;\n",
              "  height: 1em;\n",
              "  width: 1em;\n",
              "  text-decoration: none !important;\n",
              "  margin-left: 0.5em;\n",
              "  text-align: center;\n",
              "  /* unfitted */\n",
              "  border: var(--sklearn-color-unfitted-level-1) 1pt solid;\n",
              "  color: var(--sklearn-color-unfitted-level-1);\n",
              "}\n",
              "\n",
              ".sk-estimator-doc-link.fitted,\n",
              "a:link.sk-estimator-doc-link.fitted,\n",
              "a:visited.sk-estimator-doc-link.fitted {\n",
              "  /* fitted */\n",
              "  border: var(--sklearn-color-fitted-level-1) 1pt solid;\n",
              "  color: var(--sklearn-color-fitted-level-1);\n",
              "}\n",
              "\n",
              "/* On hover */\n",
              "div.sk-estimator:hover .sk-estimator-doc-link:hover,\n",
              ".sk-estimator-doc-link:hover,\n",
              "div.sk-label-container:hover .sk-estimator-doc-link:hover,\n",
              ".sk-estimator-doc-link:hover {\n",
              "  /* unfitted */\n",
              "  background-color: var(--sklearn-color-unfitted-level-3);\n",
              "  color: var(--sklearn-color-background);\n",
              "  text-decoration: none;\n",
              "}\n",
              "\n",
              "div.sk-estimator.fitted:hover .sk-estimator-doc-link.fitted:hover,\n",
              ".sk-estimator-doc-link.fitted:hover,\n",
              "div.sk-label-container:hover .sk-estimator-doc-link.fitted:hover,\n",
              ".sk-estimator-doc-link.fitted:hover {\n",
              "  /* fitted */\n",
              "  background-color: var(--sklearn-color-fitted-level-3);\n",
              "  color: var(--sklearn-color-background);\n",
              "  text-decoration: none;\n",
              "}\n",
              "\n",
              "/* Span, style for the box shown on hovering the info icon */\n",
              ".sk-estimator-doc-link span {\n",
              "  display: none;\n",
              "  z-index: 9999;\n",
              "  position: relative;\n",
              "  font-weight: normal;\n",
              "  right: .2ex;\n",
              "  padding: .5ex;\n",
              "  margin: .5ex;\n",
              "  width: min-content;\n",
              "  min-width: 20ex;\n",
              "  max-width: 50ex;\n",
              "  color: var(--sklearn-color-text);\n",
              "  box-shadow: 2pt 2pt 4pt #999;\n",
              "  /* unfitted */\n",
              "  background: var(--sklearn-color-unfitted-level-0);\n",
              "  border: .5pt solid var(--sklearn-color-unfitted-level-3);\n",
              "}\n",
              "\n",
              ".sk-estimator-doc-link.fitted span {\n",
              "  /* fitted */\n",
              "  background: var(--sklearn-color-fitted-level-0);\n",
              "  border: var(--sklearn-color-fitted-level-3);\n",
              "}\n",
              "\n",
              ".sk-estimator-doc-link:hover span {\n",
              "  display: block;\n",
              "}\n",
              "\n",
              "/* \"?\"-specific style due to the `<a>` HTML tag */\n",
              "\n",
              "#sk-container-id-1 a.estimator_doc_link {\n",
              "  float: right;\n",
              "  font-size: 1rem;\n",
              "  line-height: 1em;\n",
              "  font-family: monospace;\n",
              "  background-color: var(--sklearn-color-background);\n",
              "  border-radius: 1rem;\n",
              "  height: 1rem;\n",
              "  width: 1rem;\n",
              "  text-decoration: none;\n",
              "  /* unfitted */\n",
              "  color: var(--sklearn-color-unfitted-level-1);\n",
              "  border: var(--sklearn-color-unfitted-level-1) 1pt solid;\n",
              "}\n",
              "\n",
              "#sk-container-id-1 a.estimator_doc_link.fitted {\n",
              "  /* fitted */\n",
              "  border: var(--sklearn-color-fitted-level-1) 1pt solid;\n",
              "  color: var(--sklearn-color-fitted-level-1);\n",
              "}\n",
              "\n",
              "/* On hover */\n",
              "#sk-container-id-1 a.estimator_doc_link:hover {\n",
              "  /* unfitted */\n",
              "  background-color: var(--sklearn-color-unfitted-level-3);\n",
              "  color: var(--sklearn-color-background);\n",
              "  text-decoration: none;\n",
              "}\n",
              "\n",
              "#sk-container-id-1 a.estimator_doc_link.fitted:hover {\n",
              "  /* fitted */\n",
              "  background-color: var(--sklearn-color-fitted-level-3);\n",
              "}\n",
              "</style><div id=\"sk-container-id-1\" class=\"sk-top-container\"><div class=\"sk-text-repr-fallback\"><pre>LinearRegression()</pre><b>In a Jupyter environment, please rerun this cell to show the HTML representation or trust the notebook. <br />On GitHub, the HTML representation is unable to render, please try loading this page with nbviewer.org.</b></div><div class=\"sk-container\" hidden><div class=\"sk-item\"><div class=\"sk-estimator fitted sk-toggleable\"><input class=\"sk-toggleable__control sk-hidden--visually\" id=\"sk-estimator-id-1\" type=\"checkbox\" checked><label for=\"sk-estimator-id-1\" class=\"sk-toggleable__label fitted sk-toggleable__label-arrow\"><div><div>LinearRegression</div></div><div><a class=\"sk-estimator-doc-link fitted\" rel=\"noreferrer\" target=\"_blank\" href=\"https://scikit-learn.org/1.6/modules/generated/sklearn.linear_model.LinearRegression.html\">?<span>Documentation for LinearRegression</span></a><span class=\"sk-estimator-doc-link fitted\">i<span>Fitted</span></span></div></label><div class=\"sk-toggleable__content fitted\"><pre>LinearRegression()</pre></div> </div></div></div></div>"
            ]
          },
          "metadata": {},
          "execution_count": 16
        }
      ]
    },
    {
      "cell_type": "markdown",
      "source": [
        "## Make predictions"
      ],
      "metadata": {
        "id": "90uy7kLQWHHf"
      }
    },
    {
      "cell_type": "code",
      "source": [
        "y_pred = model.predict(X_test_scaled)"
      ],
      "metadata": {
        "id": "hW1seR5hWGtU"
      },
      "execution_count": 17,
      "outputs": []
    },
    {
      "cell_type": "markdown",
      "source": [
        "## Evaluate the model"
      ],
      "metadata": {
        "id": "MP10152MWKZ9"
      }
    },
    {
      "cell_type": "code",
      "source": [
        "mse = mean_squared_error(y_test, y_pred)\n",
        "r2 = r2_score(y_test, y_pred)\n",
        "print(f'Mean Squared Error: {mse:.2f}')\n",
        "print(f'R^2 Score: {r2:.2f}')"
      ],
      "metadata": {
        "colab": {
          "base_uri": "https://localhost:8080/"
        },
        "id": "W4jRK7ybWL8A",
        "outputId": "926c27ae-de39-4fb2-d443-baab2fbe7c6a"
      },
      "execution_count": 18,
      "outputs": [
        {
          "output_type": "stream",
          "name": "stdout",
          "text": [
            "Mean Squared Error: 592.14\n",
            "R^2 Score: 1.00\n"
          ]
        }
      ]
    },
    {
      "cell_type": "markdown",
      "source": [
        "## Plot actual vs predicted prices"
      ],
      "metadata": {
        "id": "QAqtuskmWPCx"
      }
    },
    {
      "cell_type": "code",
      "source": [
        "plt.figure(figsize=(10, 6))\n",
        "plt.plot(test_dates, y_test.values, label='Actual', color='blue')\n",
        "plt.plot(test_dates, y_pred, label='Predicted', color='orange')\n",
        "plt.xlabel('Date')\n",
        "plt.ylabel('Gold Price (Close)')\n",
        "plt.title('Actual vs Predicted Gold Prices (Linear Regression)')\n",
        "plt.legend()\n",
        "plt.xticks(rotation=45)\n",
        "plt.tight_layout()\n",
        "plt.show()"
      ],
      "metadata": {
        "colab": {
          "base_uri": "https://localhost:8080/",
          "height": 607
        },
        "id": "DvVKqaJ4WRJo",
        "outputId": "bcf81315-a691-4f76-a1fc-dadbbf7382a8"
      },
      "execution_count": 19,
      "outputs": [
        {
          "output_type": "display_data",
          "data": {
            "text/plain": [
              "<Figure size 1000x600 with 1 Axes>"
            ],
            "image/png": "[encoded data removed]"
          },
          "metadata": {}
        }
      ]
    },
    {
      "cell_type": "markdown",
      "source": [
        "The near-identical actual vs. predicted plot is due to overfitting and data leakage in the test set, where actual Low and High values were used."
      ],
      "metadata": {
        "id": "ldDKeZZ3oWRS"
      }
    },
    {
      "cell_type": "markdown",
      "source": [
        "## Display feature coefficients"
      ],
      "metadata": {
        "id": "ZP9pK2oIWTtm"
      }
    },
    {
      "cell_type": "code",
      "source": [
        "coefficients = pd.Series(model.coef_, index=features).sort_values(ascending=False)\n",
        "print(\"Feature Coefficients:\\n\", coefficients)"
      ],
      "metadata": {
        "colab": {
          "base_uri": "https://localhost:8080/"
        },
        "id": "Jn3IM98bWVpf",
        "outputId": "8db1f149-9ab8-4733-f66d-3f25ce473c5c"
      },
      "execution_count": 20,
      "outputs": [
        {
          "output_type": "stream",
          "name": "stdout",
          "text": [
            "Feature Coefficients:\n",
            " Low           735.263228\n",
            "High          570.019119\n",
            "Close_Lag1      6.174733\n",
            "Volume          0.352385\n",
            "Month           0.060616\n",
            "Day            -0.206744\n",
            "DayOfWeek      -0.344471\n",
            "Year           -1.137913\n",
            "MA7            -1.606935\n",
            "Open         -418.837672\n",
            "dtype: float64\n"
          ]
        }
      ]
    },
    {
      "cell_type": "markdown",
      "source": [
        "## Plot feature coefficients"
      ],
      "metadata": {
        "id": "k99KJ2TOWXwp"
      }
    },
    {
      "cell_type": "code",
      "source": [
        "plt.figure(figsize=(10, 6))\n",
        "coefficients.plot(kind='bar')\n",
        "plt.title('Feature Coefficients in Linear Regression Model')\n",
        "plt.xlabel('Features')\n",
        "plt.ylabel('Coefficient Value')\n",
        "plt.tight_layout()\n",
        "plt.show()"
      ],
      "metadata": {
        "colab": {
          "base_uri": "https://localhost:8080/",
          "height": 607
        },
        "id": "LyxcsFiMU_ag",
        "outputId": "3d7a0424-c3e4-4cee-ba15-bf4e51adf3d4"
      },
      "execution_count": 21,
      "outputs": [
        {
          "output_type": "display_data",
          "data": {
            "text/plain": [
              "<Figure size 1000x600 with 1 Axes>"
            ],
            "image/png": "[encoded data removed]"
          },
          "metadata": {}
        }
      ]
    },
    {
      "cell_type": "code",
      "source": [
        "import pickle\n",
        "\n",
        "# Save the trained model\n",
        "with open('gold_price_model.pkl', 'wb') as model_file:\n",
        "    pickle.dump(model, model_file)\n",
        "\n",
        "# Save the scaler\n",
        "with open('scaler.pkl', 'wb') as scaler_file:\n",
        "    pickle.dump(scaler, scaler_file)"
      ],
      "metadata": {
        "id": "kXbXJpBpbmEM"
      },
      "execution_count": 22,
      "outputs": []
    },
    {
      "cell_type": "markdown",
      "source": [
        "## Prepare data for Prophet forecasting"
      ],
      "metadata": {
        "id": "scpecS2mcuYo"
      }
    },
    {
      "cell_type": "code",
      "source": [
        "prophet_data = data[['Date', 'Open', 'Volume', 'Close']].copy()\n",
        "prophet_data = prophet_data.rename(columns={'Date': 'ds'})"
      ],
      "metadata": {
        "id": "J6mZv2x3cotI"
      },
      "execution_count": 23,
      "outputs": []
    },
    {
      "cell_type": "markdown",
      "source": [
        "## Function to forecast a single column using Prophet"
      ],
      "metadata": {
        "id": "IKpFzckOczKI"
      }
    },
    {
      "cell_type": "code",
      "source": [
        "def forecast_column(df, column, periods=365):\n",
        "    df_prophet = df[['ds', column]].rename(columns={column: 'y'})\n",
        "    holidays = pd.DataFrame({\n",
        "        'holiday': 'holiday',\n",
        "    'ds': pd.to_datetime(['2024-05-10', '2025-05-02']),\n",
        "    'lower_window': -2,\n",
        "    'upper_window': 2\n",
        "    })\n",
        "    model = Prophet(holidays=holidays, yearly_seasonality=True, weekly_seasonality=True, daily_seasonality=True)\n",
        "    model.fit(df_prophet)\n",
        "    future = model.make_future_dataframe(periods=periods)\n",
        "    forecast = model.predict(future)\n",
        "    return forecast[['ds', 'yhat']].rename(columns={'yhat': column})"
      ],
      "metadata": {
        "id": "XlQnnW2EcoqV"
      },
      "execution_count": 24,
      "outputs": []
    },
    {
      "cell_type": "markdown",
      "source": [
        "## Forecast Open, Volume, and Close for the next 365 days"
      ],
      "metadata": {
        "id": "c10jq4N6c6_a"
      }
    },
    {
      "cell_type": "code",
      "source": [
        "from prophet import Prophet\n",
        "\n",
        "forecast_open = forecast_column(prophet_data, 'Open')\n",
        "forecast_volume = forecast_column(prophet_data, 'Volume')\n",
        "forecast_close = forecast_column(prophet_data, 'Close')"
      ],
      "metadata": {
        "colab": {
          "base_uri": "https://localhost:8080/"
        },
        "id": "thVSR3yncong",
        "outputId": "44b21aa1-5c71-482f-e90b-3a4b17600d4a"
      },
      "execution_count": 25,
      "outputs": [
        {
          "output_type": "stream",
          "name": "stderr",
          "text": [
            "DEBUG:cmdstanpy:input tempfile: /tmp/tmpk8xuwln9/vjzgd4jn.json\n",
            "DEBUG:cmdstanpy:input tempfile: /tmp/tmpk8xuwln9/rkkidbre.json\n",
            "DEBUG:cmdstanpy:idx 0\n",
            "DEBUG:cmdstanpy:running CmdStan, num_threads: None\n",
            "DEBUG:cmdstanpy:CmdStan args: ['/usr/local/lib/python3.11/dist-packages/prophet/stan_model/prophet_model.bin', 'random', 'seed=32168', 'data', 'file=/tmp/tmpk8xuwln9/vjzgd4jn.json', 'init=/tmp/tmpk8xuwln9/rkkidbre.json', 'output', 'file=/tmp/tmpk8xuwln9/prophet_modelwlppv2pt/prophet_model-20250528065807.csv', 'method=optimize', 'algorithm=lbfgs', 'iter=10000']\n",
            "06:58:07 - cmdstanpy - INFO - Chain [1] start processing\n",
            "INFO:cmdstanpy:Chain [1] start processing\n",
            "06:58:08 - cmdstanpy - INFO - Chain [1] done processing\n",
            "INFO:cmdstanpy:Chain [1] done processing\n",
            "DEBUG:cmdstanpy:input tempfile: /tmp/tmpk8xuwln9/e0t_aroc.json\n",
            "DEBUG:cmdstanpy:input tempfile: /tmp/tmpk8xuwln9/kg7d482t.json\n",
            "DEBUG:cmdstanpy:idx 0\n",
            "DEBUG:cmdstanpy:running CmdStan, num_threads: None\n",
            "DEBUG:cmdstanpy:CmdStan args: ['/usr/local/lib/python3.11/dist-packages/prophet/stan_model/prophet_model.bin', 'random', 'seed=21171', 'data', 'file=/tmp/tmpk8xuwln9/e0t_aroc.json', 'init=/tmp/tmpk8xuwln9/kg7d482t.json', 'output', 'file=/tmp/tmpk8xuwln9/prophet_modelo_5ad658/prophet_model-20250528065809.csv', 'method=optimize', 'algorithm=lbfgs', 'iter=10000']\n",
            "06:58:09 - cmdstanpy - INFO - Chain [1] start processing\n",
            "INFO:cmdstanpy:Chain [1] start processing\n",
            "06:58:10 - cmdstanpy - INFO - Chain [1] done processing\n",
            "INFO:cmdstanpy:Chain [1] done processing\n",
            "DEBUG:cmdstanpy:input tempfile: /tmp/tmpk8xuwln9/zd6yqie8.json\n",
            "DEBUG:cmdstanpy:input tempfile: /tmp/tmpk8xuwln9/k3tqmqak.json\n",
            "DEBUG:cmdstanpy:idx 0\n",
            "DEBUG:cmdstanpy:running CmdStan, num_threads: None\n",
            "DEBUG:cmdstanpy:CmdStan args: ['/usr/local/lib/python3.11/dist-packages/prophet/stan_model/prophet_model.bin', 'random', 'seed=69796', 'data', 'file=/tmp/tmpk8xuwln9/zd6yqie8.json', 'init=/tmp/tmpk8xuwln9/k3tqmqak.json', 'output', 'file=/tmp/tmpk8xuwln9/prophet_modelyb8_q87y/prophet_model-20250528065811.csv', 'method=optimize', 'algorithm=lbfgs', 'iter=10000']\n",
            "06:58:11 - cmdstanpy - INFO - Chain [1] start processing\n",
            "INFO:cmdstanpy:Chain [1] start processing\n",
            "06:58:13 - cmdstanpy - INFO - Chain [1] done processing\n",
            "INFO:cmdstanpy:Chain [1] done processing\n"
          ]
        }
      ]
    },
    {
      "cell_type": "code",
      "source": [
        "forecast_df = forecast_open[['ds', 'Open']].merge(\n",
        "    forecast_volume[['ds', 'Volume']], on='ds'\n",
        ").merge(\n",
        "    forecast_close[['ds', 'Close']], on='ds'\n",
        ")"
      ],
      "metadata": {
        "id": "IHfKS4hRcokM"
      },
      "execution_count": 26,
      "outputs": []
    },
    {
      "cell_type": "code",
      "source": [
        "forecast_df['Close_Lag1'] = forecast_df['Close'].shift(1)\n",
        "forecast_df['MA7'] = forecast_df['Close'].rolling(window=7).mean()"
      ],
      "metadata": {
        "id": "MDJ2Zl0ncog7"
      },
      "execution_count": 27,
      "outputs": []
    },
    {
      "cell_type": "code",
      "source": [
        "forecast_df = forecast_df.dropna()"
      ],
      "metadata": {
        "id": "E_QPNszedOzT"
      },
      "execution_count": 28,
      "outputs": []
    },
    {
      "cell_type": "markdown",
      "source": [
        "## Test"
      ],
      "metadata": {
        "id": "aaf2mJL1oxU2"
      }
    },
    {
      "cell_type": "code",
      "source": [
        "import pickle\n",
        "from datetime import datetime, timedelta\n",
        "import pandas as pd\n",
        "import numpy as np\n",
        "import warnings\n",
        "\n",
        "# Function to prepare features for a given date\n",
        "def prepare_features(date_str, forecast_df, historical_df):\n",
        "    try:\n",
        "        # Parse input date\n",
        "        input_date = pd.to_datetime(date_str, format='%Y-%m-%d')\n",
        "\n",
        "        # Check if the date is within the forecast period\n",
        "        max_historical_date = historical_df['Date'].max()\n",
        "        max_forecast_date = max_historical_date + timedelta(days=365)\n",
        "        if input_date < max_historical_date or input_date > max_forecast_date:\n",
        "            raise ValueError(f\"Date must be between {max_historical_date.strftime('%Y-%m-%d')} and {max_forecast_date.strftime('%Y-%m-%d')}.\")\n",
        "\n",
        "        # Get the closest forecasted date (Prophet generates daily forecasts)\n",
        "        forecast_row = forecast_df.iloc[(forecast_df['ds'] - input_date).abs().idxmin()]\n",
        "\n",
        "        # Extract features\n",
        "        features = {\n",
        "            'Open': forecast_row['Open'],\n",
        "            'High': forecast_row['Close'],  # Placeholder: Using Close as proxy (see warning)\n",
        "            'Low': forecast_row['Close'],   # Placeholder: Using Close as proxy (see warning)\n",
        "            'Volume': forecast_row['Volume'],\n",
        "            'Year': input_date.year,\n",
        "            'Month': input_date.month,\n",
        "            'Day': input_date.day,\n",
        "            'DayOfWeek': input_date.dayofweek,\n",
        "            'Close_Lag1': forecast_row['Close_Lag1'],\n",
        "            'MA7': forecast_row['MA7']\n",
        "        }\n",
        "\n",
        "        # Convert to DataFrame\n",
        "        feature_df = pd.DataFrame([features])\n",
        "\n",
        "        # Scale features\n",
        "        feature_scaled = scaler.transform(feature_df)\n",
        "\n",
        "        return feature_scaled\n",
        "    except Exception as e:\n",
        "        raise ValueError(f\"Error preparing features: {str(e)}\")\n",
        "\n",
        "# Function to predict gold price\n",
        "def predict_gold_price(date_str, model, forecast_df, historical_df):\n",
        "    try:\n",
        "        # Prepare features\n",
        "        features_scaled = prepare_features(date_str, forecast_df, historical_df)\n",
        "\n",
        "        # Make prediction\n",
        "        prediction = model.predict(features_scaled)[0]\n",
        "\n",
        "        return prediction\n",
        "    except Exception as e:\n",
        "        return f\"Prediction failed: {str(e)}\"\n",
        "\n",
        "# Main function to get user input and predict\n",
        "def main():\n",
        "    # Warning about Low and High features\n",
        "    warnings.warn(\"Warning: The model includes 'Low' and 'High' features, which may cause data leakage. \"\n",
        "                  \"Currently using forecasted Close as a proxy for Low and High. For realistic predictions, \"\n",
        "                  \"remove Low and High features and retrain the model.\")\n",
        "\n",
        "    # Inform user of valid date range\n",
        "    max_historical_date = data['Date'].max()\n",
        "    max_forecast_date = max_historical_date + timedelta(days=365)\n",
        "    print(f\"Enter a date between {max_historical_date.strftime('%Y-%m-%d')} and 2025-05-16.\")\n",
        "\n",
        "    # Get user input\n",
        "    date_str = input(\"Enter the date for prediction (YYYY-MM-DD): \")\n",
        "\n",
        "    try:\n",
        "        # Predict price\n",
        "        predicted_price = predict_gold_price(date_str, model, forecast_df, data)\n",
        "        if isinstance(predicted_price, str):\n",
        "            print(predicted_price)  # Error message\n",
        "        else:\n",
        "            print(f\"Predicted Gold Close Price for {date_str}: Rs.{predicted_price:.2f}\")\n",
        "    except Exception as e:\n",
        "        print(f\"Error: {str(e)}\")\n",
        "\n",
        "if __name__ == \"__main__\":\n",
        "    main()\n"
      ],
      "metadata": {
        "colab": {
          "base_uri": "https://localhost:8080/"
        },
        "id": "Bs006WEudOeT",
        "outputId": "0979c545-e19e-4aac-a693-9371a51f14d6"
      },
      "execution_count": 46,
      "outputs": [
        {
          "output_type": "stream",
          "name": "stderr",
          "text": [
            "<ipython-input-46-8746319c308e>:62: UserWarning: Warning: The model includes 'Low' and 'High' features, which may cause data leakage. Currently using forecasted Close as a proxy for Low and High. For realistic predictions, remove Low and High features and retrain the model.\n",
            "  warnings.warn(\"Warning: The model includes 'Low' and 'High' features, which may cause data leakage. \"\n"
          ]
        },
        {
          "output_type": "stream",
          "name": "stdout",
          "text": [
            "Enter a date between 2025-05-22 and 2025-05-16.\n",
            "Enter the date for prediction (YYYY-MM-DD): 2025-05-21\n",
            "Prediction failed: Error preparing features: Date must be between 2025-05-22 and 2026-05-22.\n"
          ]
        }
      ]
    },
    {
      "cell_type": "markdown",
      "source": [
        "## Comparision with predicted and actual price"
      ],
      "metadata": {
        "id": "Etxojl9Lper_"
      }
    },
    {
      "cell_type": "markdown",
      "source": [
        "    Date      Predicted Price | Actual Price\n",
        "- 2025-05-23: Rs.7707.69 | 8311 -> 603.31\n",
        "- 2025-05-26: Rs.7790.99 | 8364 -> 573.01\n",
        "- 2025-05-27: Rs.7707.95 | 8372 -> 664.05\n",
        "- 2025-05-28: Rs.7702.74 | 8372 -> 669.26\n",
        "\n"
      ],
      "metadata": {
        "id": "uyjz-dlpmtEX"
      }
    },
    {
      "cell_type": "markdown",
      "source": [
        "# Deploying it on Gradio"
      ],
      "metadata": {
        "id": "p53YUlVevB7z"
      }
    },
    {
      "cell_type": "markdown",
      "source": [
        "## Save forecast_df.csv"
      ],
      "metadata": {
        "id": "iOwce0qcvF9H"
      }
    },
    {
      "cell_type": "code",
      "source": [
        "forecast_df.to_csv(\"forecast_df.csv\", index=False)"
      ],
      "metadata": {
        "id": "mX8ozlHlmq8P"
      },
      "execution_count": 47,
      "outputs": []
    },
    {
      "cell_type": "markdown",
      "source": [
        "## Save the model"
      ],
      "metadata": {
        "id": "eskgjJ-ivTl1"
      }
    },
    {
      "cell_type": "code",
      "source": [
        "# Save model\n",
        "with open('gold_price_model.pkl', 'wb') as model_file:\n",
        "    pickle.dump(model, model_file)\n",
        "\n",
        "# Save scaler\n",
        "with open('scaler.pkl', 'wb') as scaler_file:\n",
        "    pickle.dump(scaler, scaler_file)\n"
      ],
      "metadata": {
        "id": "9quC5cAWmqxD"
      },
      "execution_count": 48,
      "outputs": []
    },
    {
      "cell_type": "markdown",
      "source": [
        "## Download Files to Your Local Machine from Colab (Optional)"
      ],
      "metadata": {
        "id": "vKCJ8lFLvdLr"
      }
    },
    {
      "cell_type": "code",
      "source": [
        "from google.colab import files\n",
        "\n",
        "files.download(\"gold_price_model.pkl\")\n",
        "files.download(\"scaler.pkl\")\n",
        "files.download(\"forecast_df.csv\")\n",
        "files.download(\"gold_price_in_inr.csv\")"
      ],
      "metadata": {
        "colab": {
          "base_uri": "https://localhost:8080/",
          "height": 17
        },
        "id": "5e_5Ukj7vgS4",
        "outputId": "1c3ae6d0-ada0-4b5c-ec1a-72e86967ffef"
      },
      "execution_count": 49,
      "outputs": [
        {
          "output_type": "display_data",
          "data": {
            "text/plain": [
              "<IPython.core.display.Javascript object>"
            ],
            "application/javascript": [
              "\n",
              "    async function download(id, filename, size) {\n",
              "      if (!google.colab.kernel.accessAllowed) {\n",
              "        return;\n",
              "      }\n",
              "      const div = document.createElement('div');\n",
              "      const label = document.createElement('label');\n",
              "      label.textContent = `Downloading \"${filename}\": `;\n",
              "      div.appendChild(label);\n",
              "      const progress = document.createElement('progress');\n",
              "      progress.max = size;\n",
              "      div.appendChild(progress);\n",
              "      document.body.appendChild(div);\n",
              "\n",
              "      const buffers = [];\n",
              "      let downloaded = 0;\n",
              "\n",
              "      const channel = await google.colab.kernel.comms.open(id);\n",
              "      // Send a message to notify the kernel that we're ready.\n",
              "      channel.send({})\n",
              "\n",
              "      for await (const message of channel.messages) {\n",
              "        // Send a message to notify the kernel that we're ready.\n",
              "        channel.send({})\n",
              "        if (message.buffers) {\n",
              "          for (const buffer of message.buffers) {\n",
              "            buffers.push(buffer);\n",
              "            downloaded += buffer.byteLength;\n",
              "            progress.value = downloaded;\n",
              "          }\n",
              "        }\n",
              "      }\n",
              "      const blob = new Blob(buffers, {type: 'application/binary'});\n",
              "      const a = document.createElement('a');\n",
              "      a.href = window.URL.createObjectURL(blob);\n",
              "      a.download = filename;\n",
              "      div.appendChild(a);\n",
              "      a.click();\n",
              "      div.remove();\n",
              "    }\n",
              "  "
            ]
          },
          "metadata": {}
        },
        {
          "output_type": "display_data",
          "data": {
            "text/plain": [
              "<IPython.core.display.Javascript object>"
            ],
            "application/javascript": [
              "download(\"download_94391b83-5ad7-456b-b093-159864abc5a8\", \"gold_price_model.pkl\", 564)"
            ]
          },
          "metadata": {}
        },
        {
          "output_type": "display_data",
          "data": {
            "text/plain": [
              "<IPython.core.display.Javascript object>"
            ],
            "application/javascript": [
              "\n",
              "    async function download(id, filename, size) {\n",
              "      if (!google.colab.kernel.accessAllowed) {\n",
              "        return;\n",
              "      }\n",
              "      const div = document.createElement('div');\n",
              "      const label = document.createElement('label');\n",
              "      label.textContent = `Downloading \"${filename}\": `;\n",
              "      div.appendChild(label);\n",
              "      const progress = document.createElement('progress');\n",
              "      progress.max = size;\n",
              "      div.appendChild(progress);\n",
              "      document.body.appendChild(div);\n",
              "\n",
              "      const buffers = [];\n",
              "      let downloaded = 0;\n",
              "\n",
              "      const channel = await google.colab.kernel.comms.open(id);\n",
              "      // Send a message to notify the kernel that we're ready.\n",
              "      channel.send({})\n",
              "\n",
              "      for await (const message of channel.messages) {\n",
              "        // Send a message to notify the kernel that we're ready.\n",
              "        channel.send({})\n",
              "        if (message.buffers) {\n",
              "          for (const buffer of message.buffers) {\n",
              "            buffers.push(buffer);\n",
              "            downloaded += buffer.byteLength;\n",
              "            progress.value = downloaded;\n",
              "          }\n",
              "        }\n",
              "      }\n",
              "      const blob = new Blob(buffers, {type: 'application/binary'});\n",
              "      const a = document.createElement('a');\n",
              "      a.href = window.URL.createObjectURL(blob);\n",
              "      a.download = filename;\n",
              "      div.appendChild(a);\n",
              "      a.click();\n",
              "      div.remove();\n",
              "    }\n",
              "  "
            ]
          },
          "metadata": {}
        },
        {
          "output_type": "display_data",
          "data": {
            "text/plain": [
              "<IPython.core.display.Javascript object>"
            ],
            "application/javascript": [
              "download(\"download_2b78f368-5255-4629-8934-cda25ec46cc7\", \"scaler.pkl\", 858)"
            ]
          },
          "metadata": {}
        },
        {
          "output_type": "display_data",
          "data": {
            "text/plain": [
              "<IPython.core.display.Javascript object>"
            ],
            "application/javascript": [
              "\n",
              "    async function download(id, filename, size) {\n",
              "      if (!google.colab.kernel.accessAllowed) {\n",
              "        return;\n",
              "      }\n",
              "      const div = document.createElement('div');\n",
              "      const label = document.createElement('label');\n",
              "      label.textContent = `Downloading \"${filename}\": `;\n",
              "      div.appendChild(label);\n",
              "      const progress = document.createElement('progress');\n",
              "      progress.max = size;\n",
              "      div.appendChild(progress);\n",
              "      document.body.appendChild(div);\n",
              "\n",
              "      const buffers = [];\n",
              "      let downloaded = 0;\n",
              "\n",
              "      const channel = await google.colab.kernel.comms.open(id);\n",
              "      // Send a message to notify the kernel that we're ready.\n",
              "      channel.send({})\n",
              "\n",
              "      for await (const message of channel.messages) {\n",
              "        // Send a message to notify the kernel that we're ready.\n",
              "        channel.send({})\n",
              "        if (message.buffers) {\n",
              "          for (const buffer of message.buffers) {\n",
              "            buffers.push(buffer);\n",
              "            downloaded += buffer.byteLength;\n",
              "            progress.value = downloaded;\n",
              "          }\n",
              "        }\n",
              "      }\n",
              "      const blob = new Blob(buffers, {type: 'application/binary'});\n",
              "      const a = document.createElement('a');\n",
              "      a.href = window.URL.createObjectURL(blob);\n",
              "      a.download = filename;\n",
              "      div.appendChild(a);\n",
              "      a.click();\n",
              "      div.remove();\n",
              "    }\n",
              "  "
            ]
          },
          "metadata": {}
        },
        {
          "output_type": "display_data",
          "data": {
            "text/plain": [
              "<IPython.core.display.Javascript object>"
            ],
            "application/javascript": [
              "download(\"download_6dad2afb-9bc9-45de-ac8a-efd08400da4a\", \"forecast_df.csv\", 298355)"
            ]
          },
          "metadata": {}
        },
        {
          "output_type": "display_data",
          "data": {
            "text/plain": [
              "<IPython.core.display.Javascript object>"
            ],
            "application/javascript": [
              "\n",
              "    async function download(id, filename, size) {\n",
              "      if (!google.colab.kernel.accessAllowed) {\n",
              "        return;\n",
              "      }\n",
              "      const div = document.createElement('div');\n",
              "      const label = document.createElement('label');\n",
              "      label.textContent = `Downloading \"${filename}\": `;\n",
              "      div.appendChild(label);\n",
              "      const progress = document.createElement('progress');\n",
              "      progress.max = size;\n",
              "      div.appendChild(progress);\n",
              "      document.body.appendChild(div);\n",
              "\n",
              "      const buffers = [];\n",
              "      let downloaded = 0;\n",
              "\n",
              "      const channel = await google.colab.kernel.comms.open(id);\n",
              "      // Send a message to notify the kernel that we're ready.\n",
              "      channel.send({})\n",
              "\n",
              "      for await (const message of channel.messages) {\n",
              "        // Send a message to notify the kernel that we're ready.\n",
              "        channel.send({})\n",
              "        if (message.buffers) {\n",
              "          for (const buffer of message.buffers) {\n",
              "            buffers.push(buffer);\n",
              "            downloaded += buffer.byteLength;\n",
              "            progress.value = downloaded;\n",
              "          }\n",
              "        }\n",
              "      }\n",
              "      const blob = new Blob(buffers, {type: 'application/binary'});\n",
              "      const a = document.createElement('a');\n",
              "      a.href = window.URL.createObjectURL(blob);\n",
              "      a.download = filename;\n",
              "      div.appendChild(a);\n",
              "      a.click();\n",
              "      div.remove();\n",
              "    }\n",
              "  "
            ]
          },
          "metadata": {}
        },
        {
          "output_type": "display_data",
          "data": {
            "text/plain": [
              "<IPython.core.display.Javascript object>"
            ],
            "application/javascript": [
              "download(\"download_10217775-9706-44ab-a9ed-f4ad10066ef1\", \"gold_price_in_inr.csv\", 103690)"
            ]
          },
          "metadata": {}
        }
      ]
    },
    {
      "cell_type": "markdown",
      "source": [
        "## Building Gradio App"
      ],
      "metadata": {
        "id": "2Rf4V6n7v68l"
      }
    },
    {
      "cell_type": "code",
      "source": [
        "!pip install gradio"
      ],
      "metadata": {
        "colab": {
          "base_uri": "https://localhost:8080/"
        },
        "id": "ECjypzJUvgQn",
        "outputId": "5ad854c3-e264-42fb-a444-84aba7225a3f"
      },
      "execution_count": 50,
      "outputs": [
        {
          "output_type": "stream",
          "name": "stdout",
          "text": [
            "Requirement already satisfied: gradio in /usr/local/lib/python3.11/dist-packages (5.31.0)\n",
            "Requirement already satisfied: aiofiles<25.0,>=22.0 in /usr/local/lib/python3.11/dist-packages (from gradio) (24.1.0)\n",
            "Requirement already satisfied: anyio<5.0,>=3.0 in /usr/local/lib/python3.11/dist-packages (from gradio) (4.9.0)\n",
            "Requirement already satisfied: fastapi<1.0,>=0.115.2 in /usr/local/lib/python3.11/dist-packages (from gradio) (0.115.12)\n",
            "Requirement already satisfied: ffmpy in /usr/local/lib/python3.11/dist-packages (from gradio) (0.5.0)\n",
            "Requirement already satisfied: gradio-client==1.10.1 in /usr/local/lib/python3.11/dist-packages (from gradio) (1.10.1)\n",
            "Requirement already satisfied: groovy~=0.1 in /usr/local/lib/python3.11/dist-packages (from gradio) (0.1.2)\n",
            "Requirement already satisfied: httpx>=0.24.1 in /usr/local/lib/python3.11/dist-packages (from gradio) (0.28.1)\n",
            "Requirement already satisfied: huggingface-hub>=0.28.1 in /usr/local/lib/python3.11/dist-packages (from gradio) (0.31.4)\n",
            "Requirement already satisfied: jinja2<4.0 in /usr/local/lib/python3.11/dist-packages (from gradio) (3.1.6)\n",
            "Requirement already satisfied: markupsafe<4.0,>=2.0 in /usr/local/lib/python3.11/dist-packages (from gradio) (3.0.2)\n",
            "Requirement already satisfied: numpy<3.0,>=1.0 in /usr/local/lib/python3.11/dist-packages (from gradio) (2.0.2)\n",
            "Requirement already satisfied: orjson~=3.0 in /usr/local/lib/python3.11/dist-packages (from gradio) (3.10.18)\n",
            "Requirement already satisfied: packaging in /usr/local/lib/python3.11/dist-packages (from gradio) (24.2)\n",
            "Requirement already satisfied: pandas<3.0,>=1.0 in /usr/local/lib/python3.11/dist-packages (from gradio) (2.2.2)\n",
            "Requirement already satisfied: pillow<12.0,>=8.0 in /usr/local/lib/python3.11/dist-packages (from gradio) (11.2.1)\n",
            "Requirement already satisfied: pydantic<2.12,>=2.0 in /usr/local/lib/python3.11/dist-packages (from gradio) (2.11.4)\n",
            "Requirement already satisfied: pydub in /usr/local/lib/python3.11/dist-packages (from gradio) (0.25.1)\n",
            "Requirement already satisfied: python-multipart>=0.0.18 in /usr/local/lib/python3.11/dist-packages (from gradio) (0.0.20)\n",
            "Requirement already satisfied: pyyaml<7.0,>=5.0 in /usr/local/lib/python3.11/dist-packages (from gradio) (6.0.2)\n",
            "Requirement already satisfied: ruff>=0.9.3 in /usr/local/lib/python3.11/dist-packages (from gradio) (0.11.11)\n",
            "Requirement already satisfied: safehttpx<0.2.0,>=0.1.6 in /usr/local/lib/python3.11/dist-packages (from gradio) (0.1.6)\n",
            "Requirement already satisfied: semantic-version~=2.0 in /usr/local/lib/python3.11/dist-packages (from gradio) (2.10.0)\n",
            "Requirement already satisfied: starlette<1.0,>=0.40.0 in /usr/local/lib/python3.11/dist-packages (from gradio) (0.46.2)\n",
            "Requirement already satisfied: tomlkit<0.14.0,>=0.12.0 in /usr/local/lib/python3.11/dist-packages (from gradio) (0.13.2)\n",
            "Requirement already satisfied: typer<1.0,>=0.12 in /usr/local/lib/python3.11/dist-packages (from gradio) (0.15.3)\n",
            "Requirement already satisfied: typing-extensions~=4.0 in /usr/local/lib/python3.11/dist-packages (from gradio) (4.13.2)\n",
            "Requirement already satisfied: uvicorn>=0.14.0 in /usr/local/lib/python3.11/dist-packages (from gradio) (0.34.2)\n",
            "Requirement already satisfied: fsspec in /usr/local/lib/python3.11/dist-packages (from gradio-client==1.10.1->gradio) (2025.3.2)\n",
            "Requirement already satisfied: websockets<16.0,>=10.0 in /usr/local/lib/python3.11/dist-packages (from gradio-client==1.10.1->gradio) (15.0.1)\n",
            "Requirement already satisfied: idna>=2.8 in /usr/local/lib/python3.11/dist-packages (from anyio<5.0,>=3.0->gradio) (3.10)\n",
            "Requirement already satisfied: sniffio>=1.1 in /usr/local/lib/python3.11/dist-packages (from anyio<5.0,>=3.0->gradio) (1.3.1)\n",
            "Requirement already satisfied: certifi in /usr/local/lib/python3.11/dist-packages (from httpx>=0.24.1->gradio) (2025.4.26)\n",
            "Requirement already satisfied: httpcore==1.* in /usr/local/lib/python3.11/dist-packages (from httpx>=0.24.1->gradio) (1.0.9)\n",
            "Requirement already satisfied: h11>=0.16 in /usr/local/lib/python3.11/dist-packages (from httpcore==1.*->httpx>=0.24.1->gradio) (0.16.0)\n",
            "Requirement already satisfied: filelock in /usr/local/lib/python3.11/dist-packages (from huggingface-hub>=0.28.1->gradio) (3.18.0)\n",
            "Requirement already satisfied: requests in /usr/local/lib/python3.11/dist-packages (from huggingface-hub>=0.28.1->gradio) (2.32.3)\n",
            "Requirement already satisfied: tqdm>=4.42.1 in /usr/local/lib/python3.11/dist-packages (from huggingface-hub>=0.28.1->gradio) (4.67.1)\n",
            "Requirement already satisfied: python-dateutil>=2.8.2 in /usr/local/lib/python3.11/dist-packages (from pandas<3.0,>=1.0->gradio) (2.9.0.post0)\n",
            "Requirement already satisfied: pytz>=2020.1 in /usr/local/lib/python3.11/dist-packages (from pandas<3.0,>=1.0->gradio) (2025.2)\n",
            "Requirement already satisfied: tzdata>=2022.7 in /usr/local/lib/python3.11/dist-packages (from pandas<3.0,>=1.0->gradio) (2025.2)\n",
            "Requirement already satisfied: annotated-types>=0.6.0 in /usr/local/lib/python3.11/dist-packages (from pydantic<2.12,>=2.0->gradio) (0.7.0)\n",
            "Requirement already satisfied: pydantic-core==2.33.2 in /usr/local/lib/python3.11/dist-packages (from pydantic<2.12,>=2.0->gradio) (2.33.2)\n",
            "Requirement already satisfied: typing-inspection>=0.4.0 in /usr/local/lib/python3.11/dist-packages (from pydantic<2.12,>=2.0->gradio) (0.4.1)\n",
            "Requirement already satisfied: click>=8.0.0 in /usr/local/lib/python3.11/dist-packages (from typer<1.0,>=0.12->gradio) (8.2.1)\n",
            "Requirement already satisfied: shellingham>=1.3.0 in /usr/local/lib/python3.11/dist-packages (from typer<1.0,>=0.12->gradio) (1.5.4)\n",
            "Requirement already satisfied: rich>=10.11.0 in /usr/local/lib/python3.11/dist-packages (from typer<1.0,>=0.12->gradio) (13.9.4)\n",
            "Requirement already satisfied: six>=1.5 in /usr/local/lib/python3.11/dist-packages (from python-dateutil>=2.8.2->pandas<3.0,>=1.0->gradio) (1.17.0)\n",
            "Requirement already satisfied: markdown-it-py>=2.2.0 in /usr/local/lib/python3.11/dist-packages (from rich>=10.11.0->typer<1.0,>=0.12->gradio) (3.0.0)\n",
            "Requirement already satisfied: pygments<3.0.0,>=2.13.0 in /usr/local/lib/python3.11/dist-packages (from rich>=10.11.0->typer<1.0,>=0.12->gradio) (2.19.1)\n",
            "Requirement already satisfied: charset-normalizer<4,>=2 in /usr/local/lib/python3.11/dist-packages (from requests->huggingface-hub>=0.28.1->gradio) (3.4.2)\n",
            "Requirement already satisfied: urllib3<3,>=1.21.1 in /usr/local/lib/python3.11/dist-packages (from requests->huggingface-hub>=0.28.1->gradio) (2.4.0)\n",
            "Requirement already satisfied: mdurl~=0.1 in /usr/local/lib/python3.11/dist-packages (from markdown-it-py>=2.2.0->rich>=10.11.0->typer<1.0,>=0.12->gradio) (0.1.2)\n"
          ]
        }
      ]
    },
    {
      "cell_type": "code",
      "source": [
        "import gradio as gr\n",
        "import pandas as pd\n",
        "import pickle\n",
        "from datetime import datetime, timedelta\n",
        "import warnings\n",
        "import numpy as np\n",
        "from sklearn.preprocessing import StandardScaler\n",
        "\n",
        "# Load the saved model, scaler, and forecast data\n",
        "with open('gold_price_model.pkl', 'rb') as model_file:\n",
        "    model = pickle.load(model_file)\n",
        "\n",
        "with open('scaler.pkl', 'rb') as scaler_file:\n",
        "    scaler = pickle.load(scaler_file)\n",
        "\n",
        "forecast_df = pd.read_csv('forecast_df.csv')\n",
        "forecast_df['ds'] = pd.to_datetime(forecast_df['ds'])\n",
        "data = pd.read_csv('gold_price_in_inr.csv')\n",
        "data['Date'] = pd.to_datetime(data['Date'], format='%d-%m-%Y')\n",
        "\n",
        "# Function to prepare features for a given date\n",
        "def prepare_features(date_str, forecast_df, historical_df):\n",
        "    try:\n",
        "        # Parse input date\n",
        "        input_date = pd.to_datetime(date_str, format='%Y-%m-%d')\n",
        "\n",
        "        # Check if the date is within the forecast period\n",
        "        max_historical_date = historical_df['Date'].max()\n",
        "        max_forecast_date = max_historical_date + timedelta(days=365)\n",
        "        if input_date < max_historical_date or input_date > max_forecast_date:\n",
        "            raise ValueError(f\"Date must be between {max_historical_date.strftime('%Y-%m-%d')} and {max_forecast_date.strftime('%Y-%m-%d')}.\")\n",
        "\n",
        "        # Get the closest forecasted date\n",
        "        forecast_row = forecast_df.iloc[(forecast_df['ds'] - input_date).abs().idxmin()]\n",
        "\n",
        "        # Extract features\n",
        "        features = {\n",
        "            'Open': forecast_row['Open'],\n",
        "            'High': forecast_row['Close'],  # Using Close as proxy\n",
        "            'Low': forecast_row['Close'],   # Using Close as proxy\n",
        "            'Volume': forecast_row['Volume'],\n",
        "            'Year': input_date.year,\n",
        "            'Month': input_date.month,\n",
        "            'Day': input_date.day,\n",
        "            'DayOfWeek': input_date.dayofweek,\n",
        "            'Close_Lag1': forecast_row['Close_Lag1'],\n",
        "            'MA7': forecast_row['MA7']\n",
        "        }\n",
        "\n",
        "        # Convert to DataFrame\n",
        "        feature_df = pd.DataFrame([features])\n",
        "\n",
        "        # Scale features\n",
        "        feature_scaled = scaler.transform(feature_df)\n",
        "\n",
        "        return feature_scaled\n",
        "    except Exception as e:\n",
        "        raise ValueError(f\"Error preparing features: {str(e)}\")\n",
        "\n",
        "# Function to predict gold price\n",
        "def predict_gold_price(date_str, model, forecast_df, historical_df):\n",
        "    try:\n",
        "        # Prepare features\n",
        "        features_scaled = prepare_features(date_str, forecast_df, historical_df)\n",
        "\n",
        "        # Make prediction\n",
        "        prediction = model.predict(features_scaled)[0]\n",
        "\n",
        "        return prediction\n",
        "    except Exception as e:\n",
        "        return f\"Prediction failed: {str(e)}\"\n",
        "\n",
        "# Gradio function to handle prediction\n",
        "def predict(grams, date_input, manual_date):\n",
        "    try:\n",
        "        # Use manual_date if provided, else use date_input from calendar\n",
        "        date_str = manual_date if manual_date else date_input\n",
        "        if not date_str:\n",
        "            return \"Error: Please provide a date either via calendar or manual entry.\"\n",
        "\n",
        "        # Validate date range\n",
        "        input_date = pd.to_datetime(date_str, format='%Y-%m-%d')\n",
        "        min_date = pd.to_datetime('2025-05-22')\n",
        "        max_date = pd.to_datetime('2026-05-16')\n",
        "        if input_date < min_date or input_date > max_date:\n",
        "            return f\"Error: Date must be between 2025-05-22 and 2026-05-16.\"\n",
        "\n",
        "        # Validate grams\n",
        "        grams = float(grams)\n",
        "        if grams <= 0:\n",
        "            return \"Error: Grams must be a positive number.\"\n",
        "\n",
        "        # Get prediction\n",
        "        predicted_price = predict_gold_price(date_str, model, forecast_df, data)\n",
        "        if isinstance(predicted_price, str):\n",
        "            return predicted_price  # Error message\n",
        "\n",
        "        # Calculate price per gram and total price\n",
        "        price_per_gram = predicted_price\n",
        "        total_price = predicted_price * grams\n",
        "\n",
        "        return (f\"Predicted Price per Gram for {date_str}: Rs.{price_per_gram:.2f}\\n\"\n",
        "                f\"Total Price for {grams} grams: Rs.{total_price:.2f}\")\n",
        "    except Exception as e:\n",
        "        return f\"Error: {str(e)}\"\n",
        "\n",
        "# Warning about Low and High features\n",
        "warnings.warn(\"Warning: The model includes 'Low' and 'High' features, which may cause data leakage. \"\n",
        "              \"Currently using forecasted Close as a proxy for Low and High. For realistic predictions, \"\n",
        "              \"remove Low and High features and retrain the model.\")\n",
        "\n",
        "# Create Gradio interface\n",
        "with gr.Blocks() as demo:\n",
        "    gr.Markdown(\"# Gold Price Predictor\")\n",
        "    gr.Markdown(\"Enter the grams of gold and select a date (between 2025-05-22 and 2026-05-16) to predict the gold price.\")\n",
        "\n",
        "    with gr.Row():\n",
        "        grams = gr.Textbox(label=\"Grams of Gold\", placeholder=\"Enter grams (e.g., 10)\")\n",
        "        date_input = gr.Date(label=\"Select Date\", min_date=datetime(2025, 5, 22), max_date=datetime(2026, 5, 16))\n",
        "        manual_date = gr.Textbox(label=\"Or Enter Date Manually (YYYY-MM-DD)\", placeholder=\"e.g., 2025-05-23\")\n",
        "\n",
        "    predict_btn = gr.Button(\"Predict\")\n",
        "    output = gr.Textbox(label=\"Prediction Result\")\n",
        "\n",
        "    predict_btn.click(\n",
        "        fn=predict,\n",
        "        inputs=[grams, date_input, manual_date],\n",
        "        outputs=output\n",
        "    )\n",
        "\n",
        "# Launch the app\n",
        "demo.launch()"
      ],
      "metadata": {
        "colab": {
          "base_uri": "https://localhost:8080/",
          "height": 265
        },
        "id": "_ufXmlCJvgOV",
        "outputId": "d3da9221-b28e-40b2-fc6f-584a315a1d15"
      },
      "execution_count": 60,
      "outputs": [
        {
          "output_type": "stream",
          "name": "stderr",
          "text": [
            "<ipython-input-60-51aa7d3bc188>:108: UserWarning: Warning: The model includes 'Low' and 'High' features, which may cause data leakage. Currently using forecasted Close as a proxy for Low and High. For realistic predictions, remove Low and High features and retrain the model.\n",
            "  warnings.warn(\"Warning: The model includes 'Low' and 'High' features, which may cause data leakage. \"\n"
          ]
        },
        {
          "output_type": "error",
          "ename": "AttributeError",
          "evalue": "module 'gradio' has no attribute 'Date'",
          "traceback": [
            "\u001b[0;31m---------------------------------------------------------------------------\u001b[0m",
            "\u001b[0;31mAttributeError\u001b[0m                            Traceback (most recent call last)",
            "\u001b[0;32m<ipython-input-60-51aa7d3bc188>\u001b[0m in \u001b[0;36m<cell line: 0>\u001b[0;34m()\u001b[0m\n\u001b[1;32m    117\u001b[0m     \u001b[0;32mwith\u001b[0m \u001b[0mgr\u001b[0m\u001b[0;34m.\u001b[0m\u001b[0mRow\u001b[0m\u001b[0;34m(\u001b[0m\u001b[0;34m)\u001b[0m\u001b[0;34m:\u001b[0m\u001b[0;34m\u001b[0m\u001b[0;34m\u001b[0m\u001b[0m\n\u001b[1;32m    118\u001b[0m         \u001b[0mgrams\u001b[0m \u001b[0;34m=\u001b[0m \u001b[0mgr\u001b[0m\u001b[0;34m.\u001b[0m\u001b[0mTextbox\u001b[0m\u001b[0;34m(\u001b[0m\u001b[0mlabel\u001b[0m\u001b[0;34m=\u001b[0m\u001b[0;34m\"Grams of Gold\"\u001b[0m\u001b[0;34m,\u001b[0m \u001b[0mplaceholder\u001b[0m\u001b[0;34m=\u001b[0m\u001b[0;34m\"Enter grams (e.g., 10)\"\u001b[0m\u001b[0;34m)\u001b[0m\u001b[0;34m\u001b[0m\u001b[0;34m\u001b[0m\u001b[0m\n\u001b[0;32m--> 119\u001b[0;31m         \u001b[0mdate_input\u001b[0m \u001b[0;34m=\u001b[0m \u001b[0mgr\u001b[0m\u001b[0;34m.\u001b[0m\u001b[0mDate\u001b[0m\u001b[0;34m(\u001b[0m\u001b[0mlabel\u001b[0m\u001b[0;34m=\u001b[0m\u001b[0;34m\"Select Date\"\u001b[0m\u001b[0;34m,\u001b[0m \u001b[0mmin_date\u001b[0m\u001b[0;34m=\u001b[0m\u001b[0mdatetime\u001b[0m\u001b[0;34m(\u001b[0m\u001b[0;36m2025\u001b[0m\u001b[0;34m,\u001b[0m \u001b[0;36m5\u001b[0m\u001b[0;34m,\u001b[0m \u001b[0;36m22\u001b[0m\u001b[0;34m)\u001b[0m\u001b[0;34m,\u001b[0m \u001b[0mmax_date\u001b[0m\u001b[0;34m=\u001b[0m\u001b[0mdatetime\u001b[0m\u001b[0;34m(\u001b[0m\u001b[0;36m2026\u001b[0m\u001b[0;34m,\u001b[0m \u001b[0;36m5\u001b[0m\u001b[0;34m,\u001b[0m \u001b[0;36m16\u001b[0m\u001b[0;34m)\u001b[0m\u001b[0;34m)\u001b[0m\u001b[0;34m\u001b[0m\u001b[0;34m\u001b[0m\u001b[0m\n\u001b[0m\u001b[1;32m    120\u001b[0m         \u001b[0mmanual_date\u001b[0m \u001b[0;34m=\u001b[0m \u001b[0mgr\u001b[0m\u001b[0;34m.\u001b[0m\u001b[0mTextbox\u001b[0m\u001b[0;34m(\u001b[0m\u001b[0mlabel\u001b[0m\u001b[0;34m=\u001b[0m\u001b[0;34m\"Or Enter Date Manually (YYYY-MM-DD)\"\u001b[0m\u001b[0;34m,\u001b[0m \u001b[0mplaceholder\u001b[0m\u001b[0;34m=\u001b[0m\u001b[0;34m\"e.g., 2025-05-23\"\u001b[0m\u001b[0;34m)\u001b[0m\u001b[0;34m\u001b[0m\u001b[0;34m\u001b[0m\u001b[0m\n\u001b[1;32m    121\u001b[0m \u001b[0;34m\u001b[0m\u001b[0m\n",
            "\u001b[0;31mAttributeError\u001b[0m: module 'gradio' has no attribute 'Date'"
          ]
        }
      ]
    },
    {
      "cell_type": "code",
      "source": [],
      "metadata": {
        "id": "NyTdxQK6vgKK"
      },
      "execution_count": null,
      "outputs": []
    },
    {
      "cell_type": "markdown",
      "source": [
        "# Random Forest Regressor\n"
      ],
      "metadata": {
        "id": "wgma24QgrA6W"
      }
    },
    {
      "cell_type": "code",
      "source": [
        "import pandas as pd\n",
        "import numpy as np\n",
        "from sklearn.ensemble import RandomForestRegressor\n",
        "from sklearn.metrics import mean_absolute_error, mean_squared_error, r2_score\n",
        "from prophet import Prophet\n",
        "from prophet.serialize import model_to_json\n",
        "import pickle\n",
        "from datetime import datetime\n",
        "import matplotlib.pyplot as plt\n",
        "\n",
        "def load_and_preprocess_data(file_path):\n",
        "    df = pd.read_csv(file_path)\n",
        "    df['Date'] = pd.to_datetime(df['Date'], dayfirst=True, errors='coerce')\n",
        "    if df['Date'].isna().any():\n",
        "        raise ValueError(\"Some dates could not be parsed. Please check the date format in the dataset.\")\n",
        "    df = df.sort_values('Date')\n",
        "    df['Days_Since_Start'] = (df['Date'] - df['Date'].min()).dt.days\n",
        "    df['Close_Lag1'] = df['Close'].shift(1)\n",
        "    df['Close_MA7'] = df['Close'].rolling(window=7).mean()\n",
        "    df = df.dropna()\n",
        "    return df\n",
        "\n",
        "def train_prophet_model(df):\n",
        "    prophet_df = df[['Date', 'Close']].rename(columns={'Date': 'ds', 'Close': 'y'})\n",
        "    model = Prophet(\n",
        "        daily_seasonality=True,\n",
        "        yearly_seasonality=True,\n",
        "        weekly_seasonality=True,\n",
        "        changepoint_prior_scale=0.1\n",
        "    )\n",
        "    model.fit(prophet_df)\n",
        "    future = pd.DataFrame({'ds': df['Date']})\n",
        "    forecast = model.predict(future)\n",
        "    prophet_pred = forecast[['ds', 'yhat']].set_index('ds')\n",
        "    df = df.set_index('Date')\n",
        "    df['Prophet_Pred'] = prophet_pred['yhat']\n",
        "    df = df.reset_index()\n",
        "    return model, df\n",
        "\n",
        "def train_and_evaluate_rf_model(df):\n",
        "    features = ['Days_Since_Start', 'Close_Lag1', 'Close_MA7', 'Prophet_Pred']\n",
        "    train_size = int(0.9 * len(df))\n",
        "    train_df = df.iloc[:train_size]\n",
        "    test_df = df.iloc[train_size:]\n",
        "    X_train = train_df[features]\n",
        "    y_train = train_df['Close']\n",
        "    X_test = test_df[features]\n",
        "    y_test = test_df['Close']\n",
        "    rf_model = RandomForestRegressor(n_estimators=200, random_state=42)\n",
        "    rf_model.fit(X_train, y_train)\n",
        "    y_pred_rf = rf_model.predict(X_test)\n",
        "    y_pred_prophet = test_df['Prophet_Pred']\n",
        "    mae_prophet = mean_absolute_error(y_test, y_pred_prophet)\n",
        "    mse_prophet = mean_squared_error(y_test, y_pred_prophet)\n",
        "    rmse_prophet = np.sqrt(mse_prophet)\n",
        "    r2_prophet = r2_score(y_test, y_pred_prophet)\n",
        "    print(\"\\nEvaluation Metrics:\")\n",
        "    print(f\"Mean Absolute Error (MAE): ₹{mae_prophet:.2f}\")\n",
        "    print(f\"Mean Squared Error (MSE): {mse_prophet:.2f}\")\n",
        "    print(f\"Root Mean Squared Error (RMSE): ₹{rmse_prophet:.2f}\")\n",
        "    print(f\"R-squared (R²): {r2_prophet:.4f}\")\n",
        "    plt.figure(figsize=(12, 6))\n",
        "    plt.plot(test_df['Date'], y_test, label='Actual Prices', color='blue')\n",
        "    plt.plot(test_df['Date'], y_pred_prophet, label='Predicted Prices', color='green', linestyle='-.')\n",
        "    plt.title('Actual vs Predicted Gold Prices (Test Set)')\n",
        "    plt.xlabel('Date')\n",
        "    plt.ylabel('Close Price (₹ per gram)')\n",
        "    plt.legend()\n",
        "    plt.xticks(rotation=45)\n",
        "    plt.tight_layout()\n",
        "    plt.show()\n",
        "    rf_model = RandomForestRegressor(n_estimators=200, random_state=42)\n",
        "    rf_model.fit(df[features], df['Close'])\n",
        "    print(\"\\nFeature Importance:\")\n",
        "    for feature, importance in zip(features, rf_model.feature_importances_):\n",
        "        print(f\"{feature}: {importance:.4f}\")\n",
        "    return rf_model, features\n",
        "\n",
        "def prepare_rf_features(df, prophet_model, future_date):\n",
        "    future = pd.DataFrame({'ds': [pd.to_datetime(future_date)]})\n",
        "    forecast = prophet_model.predict(future)\n",
        "    prophet_pred = forecast[['ds', 'yhat']].set_index('ds')\n",
        "    latest_data = df.tail(1).copy()\n",
        "    days_since_start = (pd.to_datetime(future_date) - df['Date'].min()).days\n",
        "    features = {\n",
        "        'Days_Since_Start': days_since_start,\n",
        "        'Close_Lag1': latest_data['Close'].values[0],\n",
        "        'Close_MA7': df['Close'].tail(7).mean(),\n",
        "        'Prophet_Pred': prophet_pred.loc[pd.to_datetime(future_date), 'yhat']\n",
        "    }\n",
        "    return pd.DataFrame([features])\n",
        "\n",
        "def train_and_save_models(file_path, prophet_model_path='prophet_model.json', rf_model_path='rf_model.pkl'):\n",
        "    df = load_and_preprocess_data(file_path)\n",
        "    prophet_model, df = train_prophet_model(df)\n",
        "    rf_model, rf_features = train_and_evaluate_rf_model(df)\n",
        "    with open(prophet_model_path, 'w') as f:\n",
        "        f.write(model_to_json(prophet_model))\n",
        "    with open(rf_model_path, 'wb') as f:\n",
        "        pickle.dump(rf_model, f)\n",
        "    with open('rf_features.pkl', 'wb') as f:\n",
        "        pickle.dump(rf_features, f)\n",
        "    with open('data.pkl', 'wb') as f:\n",
        "        pickle.dump(df, f)\n",
        "    print(f\"\\nModels and data saved to {prophet_model_path}, {rf_model_path}, rf_features.pkl, and data.pkl\")\n",
        "\n",
        "if __name__ == \"__main__\":\n",
        "    file_path = \"gold_price_in_inr.csv\"\n",
        "    try:\n",
        "        train_and_save_models(file_path)\n",
        "    except Exception as e:\n",
        "        print(f\"Error: {e}\")"
      ],
      "metadata": {
        "colab": {
          "base_uri": "https://localhost:8080/",
          "height": 988
        },
        "id": "SxkwzvTNKsNm",
        "outputId": "c1d8c3f0-be79-4a6d-83e8-baf61292a32c"
      },
      "execution_count": null,
      "outputs": [
        {
          "output_type": "stream",
          "name": "stderr",
          "text": [
            "DEBUG:cmdstanpy:input tempfile: /tmp/tmphrxsb6jp/jtvcg9aa.json\n",
            "DEBUG:cmdstanpy:input tempfile: /tmp/tmphrxsb6jp/lxvj_e17.json\n",
            "DEBUG:cmdstanpy:idx 0\n",
            "DEBUG:cmdstanpy:running CmdStan, num_threads: None\n",
            "DEBUG:cmdstanpy:CmdStan args: ['/usr/local/lib/python3.11/dist-packages/prophet/stan_model/prophet_model.bin', 'random', 'seed=66689', 'data', 'file=/tmp/tmphrxsb6jp/jtvcg9aa.json', 'init=/tmp/tmphrxsb6jp/lxvj_e17.json', 'output', 'file=/tmp/tmphrxsb6jp/prophet_modelqqs8rdf8/prophet_model-20250528052608.csv', 'method=optimize', 'algorithm=lbfgs', 'iter=10000']\n",
            "05:26:08 - cmdstanpy - INFO - Chain [1] start processing\n",
            "INFO:cmdstanpy:Chain [1] start processing\n",
            "05:26:13 - cmdstanpy - INFO - Chain [1] done processing\n",
            "INFO:cmdstanpy:Chain [1] done processing\n"
          ]
        },
        {
          "output_type": "stream",
          "name": "stdout",
          "text": [
            "\n",
            "Evaluation Metrics:\n",
            "Mean Absolute Error (MAE): ₹196.87\n",
            "Mean Squared Error (MSE): 60950.33\n",
            "Root Mean Squared Error (RMSE): ₹246.88\n",
            "R-squared (R²): 0.8594\n"
          ]
        },
        {
          "output_type": "display_data",
          "data": {
            "text/plain": [
              "<Figure size 1200x600 with 1 Axes>"
            ],
            "image/png": "[encoded data removed]"
          },
          "metadata": {}
        },
        {
          "output_type": "stream",
          "name": "stdout",
          "text": [
            "\n",
            "Feature Importance:\n",
            "Days_Since_Start: 0.2244\n",
            "Close_Lag1: 0.2360\n",
            "Close_MA7: 0.3410\n",
            "Prophet_Pred: 0.1987\n",
            "\n",
            "Models and data saved to prophet_model.json, rf_model.pkl, rf_features.pkl, and data.pkl\n"
          ]
        }
      ]
    },
    {
      "cell_type": "code",
      "source": [
        "!pip install gradio"
      ],
      "metadata": {
        "colab": {
          "base_uri": "https://localhost:8080/"
        },
        "id": "6QPTo95aVIAD",
        "outputId": "e3081505-4f9f-4f16-c4d5-7ed4b5081ce5"
      },
      "execution_count": null,
      "outputs": [
        {
          "output_type": "stream",
          "name": "stdout",
          "text": [
            "Collecting gradio\n",
            "  Downloading gradio-5.31.0-py3-none-any.whl.metadata (16 kB)\n",
            "Collecting aiofiles<25.0,>=22.0 (from gradio)\n",
            "  Downloading aiofiles-24.1.0-py3-none-any.whl.metadata (10 kB)\n",
            "Requirement already satisfied: anyio<5.0,>=3.0 in /usr/local/lib/python3.11/dist-packages (from gradio) (4.9.0)\n",
            "Collecting fastapi<1.0,>=0.115.2 (from gradio)\n",
            "  Downloading fastapi-0.115.12-py3-none-any.whl.metadata (27 kB)\n",
            "Collecting ffmpy (from gradio)\n",
            "  Downloading ffmpy-0.5.0-py3-none-any.whl.metadata (3.0 kB)\n",
            "Collecting gradio-client==1.10.1 (from gradio)\n",
            "  Downloading gradio_client-1.10.1-py3-none-any.whl.metadata (7.1 kB)\n",
            "Collecting groovy~=0.1 (from gradio)\n",
            "  Downloading groovy-0.1.2-py3-none-any.whl.metadata (6.1 kB)\n",
            "Requirement already satisfied: httpx>=0.24.1 in /usr/local/lib/python3.11/dist-packages (from gradio) (0.28.1)\n",
            "Requirement already satisfied: huggingface-hub>=0.28.1 in /usr/local/lib/python3.11/dist-packages (from gradio) (0.31.4)\n",
            "Requirement already satisfied: jinja2<4.0 in /usr/local/lib/python3.11/dist-packages (from gradio) (3.1.6)\n",
            "Requirement already satisfied: markupsafe<4.0,>=2.0 in /usr/local/lib/python3.11/dist-packages (from gradio) (3.0.2)\n",
            "Requirement already satisfied: numpy<3.0,>=1.0 in /usr/local/lib/python3.11/dist-packages (from gradio) (2.0.2)\n",
            "Requirement already satisfied: orjson~=3.0 in /usr/local/lib/python3.11/dist-packages (from gradio) (3.10.18)\n",
            "Requirement already satisfied: packaging in /usr/local/lib/python3.11/dist-packages (from gradio) (24.2)\n",
            "Requirement already satisfied: pandas<3.0,>=1.0 in /usr/local/lib/python3.11/dist-packages (from gradio) (2.2.2)\n",
            "Requirement already satisfied: pillow<12.0,>=8.0 in /usr/local/lib/python3.11/dist-packages (from gradio) (11.2.1)\n",
            "Requirement already satisfied: pydantic<2.12,>=2.0 in /usr/local/lib/python3.11/dist-packages (from gradio) (2.11.4)\n",
            "Collecting pydub (from gradio)\n",
            "  Downloading pydub-0.25.1-py2.py3-none-any.whl.metadata (1.4 kB)\n",
            "Collecting python-multipart>=0.0.18 (from gradio)\n",
            "  Downloading python_multipart-0.0.20-py3-none-any.whl.metadata (1.8 kB)\n",
            "Requirement already satisfied: pyyaml<7.0,>=5.0 in /usr/local/lib/python3.11/dist-packages (from gradio) (6.0.2)\n",
            "Collecting ruff>=0.9.3 (from gradio)\n",
            "  Downloading ruff-0.11.11-py3-none-manylinux_2_17_x86_64.manylinux2014_x86_64.whl.metadata (25 kB)\n",
            "Collecting safehttpx<0.2.0,>=0.1.6 (from gradio)\n",
            "  Downloading safehttpx-0.1.6-py3-none-any.whl.metadata (4.2 kB)\n",
            "Collecting semantic-version~=2.0 (from gradio)\n",
            "  Downloading semantic_version-2.10.0-py2.py3-none-any.whl.metadata (9.7 kB)\n",
            "Collecting starlette<1.0,>=0.40.0 (from gradio)\n",
            "  Downloading starlette-0.46.2-py3-none-any.whl.metadata (6.2 kB)\n",
            "Collecting tomlkit<0.14.0,>=0.12.0 (from gradio)\n",
            "  Downloading tomlkit-0.13.2-py3-none-any.whl.metadata (2.7 kB)\n",
            "Requirement already satisfied: typer<1.0,>=0.12 in /usr/local/lib/python3.11/dist-packages (from gradio) (0.15.3)\n",
            "Requirement already satisfied: typing-extensions~=4.0 in /usr/local/lib/python3.11/dist-packages (from gradio) (4.13.2)\n",
            "Collecting uvicorn>=0.14.0 (from gradio)\n",
            "  Downloading uvicorn-0.34.2-py3-none-any.whl.metadata (6.5 kB)\n",
            "Requirement already satisfied: fsspec in /usr/local/lib/python3.11/dist-packages (from gradio-client==1.10.1->gradio) (2025.3.2)\n",
            "Requirement already satisfied: websockets<16.0,>=10.0 in /usr/local/lib/python3.11/dist-packages (from gradio-client==1.10.1->gradio) (15.0.1)\n",
            "Requirement already satisfied: idna>=2.8 in /usr/local/lib/python3.11/dist-packages (from anyio<5.0,>=3.0->gradio) (3.10)\n",
            "Requirement already satisfied: sniffio>=1.1 in /usr/local/lib/python3.11/dist-packages (from anyio<5.0,>=3.0->gradio) (1.3.1)\n",
            "Requirement already satisfied: certifi in /usr/local/lib/python3.11/dist-packages (from httpx>=0.24.1->gradio) (2025.4.26)\n",
            "Requirement already satisfied: httpcore==1.* in /usr/local/lib/python3.11/dist-packages (from httpx>=0.24.1->gradio) (1.0.9)\n",
            "Requirement already satisfied: h11>=0.16 in /usr/local/lib/python3.11/dist-packages (from httpcore==1.*->httpx>=0.24.1->gradio) (0.16.0)\n",
            "Requirement already satisfied: filelock in /usr/local/lib/python3.11/dist-packages (from huggingface-hub>=0.28.1->gradio) (3.18.0)\n",
            "Requirement already satisfied: requests in /usr/local/lib/python3.11/dist-packages (from huggingface-hub>=0.28.1->gradio) (2.32.3)\n",
            "Requirement already satisfied: tqdm>=4.42.1 in /usr/local/lib/python3.11/dist-packages (from huggingface-hub>=0.28.1->gradio) (4.67.1)\n",
            "Requirement already satisfied: python-dateutil>=2.8.2 in /usr/local/lib/python3.11/dist-packages (from pandas<3.0,>=1.0->gradio) (2.9.0.post0)\n",
            "Requirement already satisfied: pytz>=2020.1 in /usr/local/lib/python3.11/dist-packages (from pandas<3.0,>=1.0->gradio) (2025.2)\n",
            "Requirement already satisfied: tzdata>=2022.7 in /usr/local/lib/python3.11/dist-packages (from pandas<3.0,>=1.0->gradio) (2025.2)\n",
            "Requirement already satisfied: annotated-types>=0.6.0 in /usr/local/lib/python3.11/dist-packages (from pydantic<2.12,>=2.0->gradio) (0.7.0)\n",
            "Requirement already satisfied: pydantic-core==2.33.2 in /usr/local/lib/python3.11/dist-packages (from pydantic<2.12,>=2.0->gradio) (2.33.2)\n",
            "Requirement already satisfied: typing-inspection>=0.4.0 in /usr/local/lib/python3.11/dist-packages (from pydantic<2.12,>=2.0->gradio) (0.4.1)\n",
            "Requirement already satisfied: click>=8.0.0 in /usr/local/lib/python3.11/dist-packages (from typer<1.0,>=0.12->gradio) (8.2.1)\n",
            "Requirement already satisfied: shellingham>=1.3.0 in /usr/local/lib/python3.11/dist-packages (from typer<1.0,>=0.12->gradio) (1.5.4)\n",
            "Requirement already satisfied: rich>=10.11.0 in /usr/local/lib/python3.11/dist-packages (from typer<1.0,>=0.12->gradio) (13.9.4)\n",
            "Requirement already satisfied: six>=1.5 in /usr/local/lib/python3.11/dist-packages (from python-dateutil>=2.8.2->pandas<3.0,>=1.0->gradio) (1.17.0)\n",
            "Requirement already satisfied: markdown-it-py>=2.2.0 in /usr/local/lib/python3.11/dist-packages (from rich>=10.11.0->typer<1.0,>=0.12->gradio) (3.0.0)\n",
            "Requirement already satisfied: pygments<3.0.0,>=2.13.0 in /usr/local/lib/python3.11/dist-packages (from rich>=10.11.0->typer<1.0,>=0.12->gradio) (2.19.1)\n",
            "Requirement already satisfied: charset-normalizer<4,>=2 in /usr/local/lib/python3.11/dist-packages (from requests->huggingface-hub>=0.28.1->gradio) (3.4.2)\n",
            "Requirement already satisfied: urllib3<3,>=1.21.1 in /usr/local/lib/python3.11/dist-packages (from requests->huggingface-hub>=0.28.1->gradio) (2.4.0)\n",
            "Requirement already satisfied: mdurl~=0.1 in /usr/local/lib/python3.11/dist-packages (from markdown-it-py>=2.2.0->rich>=10.11.0->typer<1.0,>=0.12->gradio) (0.1.2)\n",
            "Downloading gradio-5.31.0-py3-none-any.whl (54.2 MB)\n",
            "\u001b[2K   \u001b[90m━━━━━━━━━━━━━━━━━━━━━━━━━━━━━━━━━━━━━━━━\u001b[0m \u001b[32m54.2/54.2 MB\u001b[0m \u001b[31m9.0 MB/s\u001b[0m eta \u001b[36m0:00:00\u001b[0m\n",
            "\u001b[?25hDownloading gradio_client-1.10.1-py3-none-any.whl (323 kB)\n",
            "\u001b[2K   \u001b[90m━━━━━━━━━━━━━━━━━━━━━━━━━━━━━━━━━━━━━━━━\u001b[0m \u001b[32m323.1/323.1 kB\u001b[0m \u001b[31m16.8 MB/s\u001b[0m eta \u001b[36m0:00:00\u001b[0m\n",
            "\u001b[?25hDownloading aiofiles-24.1.0-py3-none-any.whl (15 kB)\n",
            "Downloading fastapi-0.115.12-py3-none-any.whl (95 kB)\n",
            "\u001b[2K   \u001b[90m━━━━━━━━━━━━━━━━━━━━━━━━━━━━━━━━━━━━━━━━\u001b[0m \u001b[32m95.2/95.2 kB\u001b[0m \u001b[31m4.9 MB/s\u001b[0m eta \u001b[36m0:00:00\u001b[0m\n",
            "\u001b[?25hDownloading groovy-0.1.2-py3-none-any.whl (14 kB)\n",
            "Downloading python_multipart-0.0.20-py3-none-any.whl (24 kB)\n",
            "Downloading ruff-0.11.11-py3-none-manylinux_2_17_x86_64.manylinux2014_x86_64.whl (11.5 MB)\n",
            "\u001b[2K   \u001b[90m━━━━━━━━━━━━━━━━━━━━━━━━━━━━━━━━━━━━━━━━\u001b[0m \u001b[32m11.5/11.5 MB\u001b[0m \u001b[31m75.7 MB/s\u001b[0m eta \u001b[36m0:00:00\u001b[0m\n",
            "\u001b[?25hDownloading safehttpx-0.1.6-py3-none-any.whl (8.7 kB)\n",
            "Downloading semantic_version-2.10.0-py2.py3-none-any.whl (15 kB)\n",
            "Downloading starlette-0.46.2-py3-none-any.whl (72 kB)\n",
            "\u001b[2K   \u001b[90m━━━━━━━━━━━━━━━━━━━━━━━━━━━━━━━━━━━━━━━━\u001b[0m \u001b[32m72.0/72.0 kB\u001b[0m \u001b[31m4.2 MB/s\u001b[0m eta \u001b[36m0:00:00\u001b[0m\n",
            "\u001b[?25hDownloading tomlkit-0.13.2-py3-none-any.whl (37 kB)\n",
            "Downloading uvicorn-0.34.2-py3-none-any.whl (62 kB)\n",
            "\u001b[2K   \u001b[90m━━━━━━━━━━━━━━━━━━━━━━━━━━━━━━━━━━━━━━━━\u001b[0m \u001b[32m62.5/62.5 kB\u001b[0m \u001b[31m3.1 MB/s\u001b[0m eta \u001b[36m0:00:00\u001b[0m\n",
            "\u001b[?25hDownloading ffmpy-0.5.0-py3-none-any.whl (6.0 kB)\n",
            "Downloading pydub-0.25.1-py2.py3-none-any.whl (32 kB)\n",
            "Installing collected packages: pydub, uvicorn, tomlkit, semantic-version, ruff, python-multipart, groovy, ffmpy, aiofiles, starlette, safehttpx, gradio-client, fastapi, gradio\n",
            "Successfully installed aiofiles-24.1.0 fastapi-0.115.12 ffmpy-0.5.0 gradio-5.31.0 gradio-client-1.10.1 groovy-0.1.2 pydub-0.25.1 python-multipart-0.0.20 ruff-0.11.11 safehttpx-0.1.6 semantic-version-2.10.0 starlette-0.46.2 tomlkit-0.13.2 uvicorn-0.34.2\n"
          ]
        }
      ]
    },
    {
      "cell_type": "code",
      "source": [
        "import pandas as pd\n",
        "import gradio as gr\n",
        "from prophet import Prophet\n",
        "from prophet.serialize import model_from_json\n",
        "import pickle\n",
        "from datetime import datetime\n",
        "\n",
        "def load_models_and_data(prophet_model_path='prophet_model.json', rf_model_path='rf_model.pkl',\n",
        "                         features_path='rf_features.pkl', data_path='data.pkl'):\n",
        "    with open(prophet_model_path, 'r') as f:\n",
        "        prophet_model = model_from_json(f.read())\n",
        "    with open(rf_model_path, 'rb') as f:\n",
        "        rf_model = pickle.load(f)\n",
        "    with open(features_path, 'rb') as f:\n",
        "        rf_features = pickle.load(f)\n",
        "    with open(data_path, 'rb') as f:\n",
        "        df = pickle.load(f)\n",
        "    return prophet_model, rf_model, rf_features, df\n",
        "\n",
        "def prepare_rf_features(df, prophet_model, future_date):\n",
        "    future = pd.DataFrame({'ds': [pd.to_datetime(future_date)]})\n",
        "    forecast = prophet_model.predict(future)\n",
        "    prophet_pred = forecast[['ds', 'yhat']].set_index('ds')\n",
        "    latest_data = df.tail(1).copy()\n",
        "    days_since_start = (pd.to_datetime(future_date) - df['Date'].min()).days\n",
        "    features = {\n",
        "        'Days_Since_Start': days_since_start,\n",
        "        'Close_Lag1': latest_data['Close'].values[0],\n",
        "        'Close_MA7': df['Close'].tail(7).mean(),\n",
        "        'Prophet_Pred': prophet_pred.loc[pd.to_datetime(future_date), 'yhat']\n",
        "    }\n",
        "    return pd.DataFrame([features])\n",
        "\n",
        "def predict_gold_price(quantity_grams, date_str):\n",
        "    try:\n",
        "        # Validate inputs\n",
        "        if quantity_grams <= 0:\n",
        "            return \"Quantity must be positive.\"\n",
        "        selected_date = pd.to_datetime(date_str)\n",
        "        min_date = pd.to_datetime(\"2025-05-21\")\n",
        "        max_date = pd.to_datetime(\"2026-05-31\")\n",
        "        if selected_date < min_date or selected_date > max_date:\n",
        "            return f\"Date must be between {min_date.strftime('%Y-%m-%d')} and {max_date.strftime('%Y-%m-%d')}.\"\n",
        "\n",
        "        # Load models and data\n",
        "        prophet_model, rf_model, rf_features, df = load_models_and_data()\n",
        "\n",
        "        # Prepare features for prediction\n",
        "        future_features = prepare_rf_features(df, prophet_model, selected_date)\n",
        "\n",
        "        # Predict price (INR per gram)\n",
        "        predicted_price = rf_model.predict(future_features[rf_features])[0]\n",
        "\n",
        "        # Calculate total price\n",
        "        total_price = predicted_price * quantity_grams\n",
        "\n",
        "        # Format output\n",
        "        return (f\"Predicted gold price for {selected_date.strftime('%Y-%m-%d')}:\\n\"\n",
        "                f\"₹{predicted_price:.2f} per gram\\n\"\n",
        "                f\"Total price for {quantity_grams} grams: ₹{total_price:.2f}\")\n",
        "    except Exception as e:\n",
        "        return f\"Error: {str(e)}\"\n",
        "\n",
        "# Gradio interface\n",
        "with gr.Blocks() as demo:\n",
        "    gr.Markdown(\"# Gold Price Predictor\")\n",
        "    gr.Markdown(\"Enter the quantity of gold (in grams) and select a date to predict the gold price.\")\n",
        "    quantity = gr.Number(label=\"Quantity (grams)\", value=10, minimum=0.1, step=0.1)\n",
        "    date = gr.Textbox(\n",
        "        label=\"Date (YYYY-MM-DD)\",\n",
        "        placeholder=\"Select a date between 2025-05-21 and 2026-05-31\",\n",
        "        info=\"Use the browser's date picker or enter the date manually.\"\n",
        "    )\n",
        "    output = gr.Textbox(label=\"Prediction\")\n",
        "    submit = gr.Button(\"Predict\")\n",
        "    submit.click(\n",
        "        fn=predict_gold_price,\n",
        "        inputs=[quantity, date],\n",
        "        outputs=output\n",
        "    )\n",
        "\n",
        "if __name__ == \"__main__\":\n",
        "    demo.launch()"
      ],
      "metadata": {
        "id": "Uu9tJnWJZJ1E",
        "colab": {
          "base_uri": "https://localhost:8080/",
          "height": 646
        },
        "outputId": "c0ef0241-e326-40d0-c6ad-fa624974fbe1"
      },
      "execution_count": null,
      "outputs": [
        {
          "output_type": "stream",
          "name": "stdout",
          "text": [
            "It looks like you are running Gradio on a hosted a Jupyter notebook. For the Gradio app to work, sharing must be enabled. Automatically setting `share=True` (you can turn this off by setting `share=False` in `launch()` explicitly).\n",
            "\n",
            "Colab notebook detected. To show errors in colab notebook, set debug=True in launch()\n",
            "* Running on public URL: https://6be23e80be85b9d09a.gradio.live\n",
            "\n",
            "This share link expires in 1 week. For free permanent hosting and GPU upgrades, run `gradio deploy` from the terminal in the working directory to deploy to Hugging Face Spaces (https://huggingface.co/spaces)\n"
          ]
        },
        {
          "output_type": "display_data",
          "data": {
            "text/plain": [
              "<IPython.core.display.HTML object>"
            ],
            "text/html": [
              "<div><iframe src=\"https://6be23e80be85b9d09a.gradio.live\" width=\"100%\" height=\"500\" allow=\"autoplay; camera; microphone; clipboard-read; clipboard-write;\" frameborder=\"0\" allowfullscreen></iframe></div>"
            ]
          },
          "metadata": {}
        }
      ]
    },
    {
      "cell_type": "markdown",
      "source": [
        "# XGBoost"
      ],
      "metadata": {
        "id": "Rnvjn-ZWYoT4"
      }
    },
    {
      "cell_type": "code",
      "source": [
        "import pandas as pd\n",
        "import numpy as np\n",
        "from xgboost import XGBRegressor\n",
        "from sklearn.metrics import mean_absolute_error, mean_squared_error, r2_score\n",
        "from sklearn.preprocessing import StandardScaler\n",
        "from prophet import Prophet\n",
        "from prophet.serialize import model_to_json\n",
        "import pickle\n",
        "from datetime import datetime\n",
        "import matplotlib.pyplot as plt\n",
        "\n",
        "def load_and_preprocess_data(file_path):\n",
        "    df = pd.read_csv(file_path)\n",
        "    df['Date'] = pd.to_datetime(df['Date'], dayfirst=True, errors='coerce')\n",
        "    if df['Date'].isna().any():\n",
        "        raise ValueError(\"Some dates could not be parsed. Please check the date format in the dataset.\")\n",
        "    df = df.sort_values('Date')\n",
        "    df['Days_Since_Start'] = (df['Date'] - df['Date'].min()).dt.days\n",
        "    df['Close_Lag1'] = df['Close'].shift(1)\n",
        "    df['Close_Lag2'] = df['Close'].shift(2)\n",
        "    df['Close_MA7'] = df['Close'].rolling(window=7).mean()\n",
        "    df['Close_MA14'] = df['Close'].rolling(window=14).mean()\n",
        "    # Add linear trend feature\n",
        "    df['Trend'] = df['Close'].ewm(span=30, adjust=False).mean()\n",
        "    df = df.dropna()\n",
        "    return df\n",
        "\n",
        "def train_prophet_model(df):\n",
        "    prophet_df = df[['Date', 'Close']].rename(columns={'Date': 'ds', 'Close': 'y'})\n",
        "    model = Prophet(\n",
        "        daily_seasonality=True,\n",
        "        yearly_seasonality=True,\n",
        "        weekly_seasonality=True,\n",
        "        changepoint_prior_scale=0.5,\n",
        "        seasonality_prior_scale=2.0\n",
        "    )\n",
        "    model.fit(prophet_df)\n",
        "    future = pd.DataFrame({'ds': df['Date']})\n",
        "    forecast = model.predict(future)\n",
        "    prophet_pred = forecast[['ds', 'yhat', 'trend']].set_index('ds')\n",
        "    df = df.set_index('Date')\n",
        "    df['Prophet_Pred'] = prophet_pred['yhat']\n",
        "    df['Prophet_Trend'] = prophet_pred['trend']\n",
        "    df = df.reset_index()\n",
        "    return model, df\n",
        "\n",
        "def train_and_evaluate_xgb_model(df):\n",
        "    features = ['Days_Since_Start', 'Close_Lag1', 'Close_Lag2', 'Close_MA7', 'Close_MA14', 'Prophet_Pred', 'Prophet_Trend', 'Trend']\n",
        "    scaler = StandardScaler()\n",
        "    train_size = int(0.9 * len(df))\n",
        "    train_df = df.iloc[:train_size]\n",
        "    test_df = df.iloc[train_size:]\n",
        "    X_train = scaler.fit_transform(train_df[features])\n",
        "    y_train = train_df['Close']\n",
        "    X_test = scaler.transform(test_df[features])\n",
        "    y_test = test_df['Close']\n",
        "    xgb_model = XGBRegressor(n_estimators=200, learning_rate=0.05, max_depth=5, random_state=42)\n",
        "    xgb_model.fit(X_train, y_train)\n",
        "    y_pred_xgb = xgb_model.predict(X_test)\n",
        "    y_pred_prophet = test_df['Prophet_Pred']\n",
        "    # XGBoost metrics\n",
        "    mae_xgb = mean_absolute_error(y_test, y_pred_xgb)\n",
        "    mse_xgb = mean_squared_error(y_test, y_pred_xgb)\n",
        "    rmse_xgb = np.sqrt(mse_xgb)\n",
        "    r2_xgb = r2_score(y_test, y_pred_xgb)\n",
        "    print(\"\\nXGBoost Evaluation Metrics (Test Set):\")\n",
        "    print(f\"Mean Absolute Error (MAE): ₹{mae_xgb:.2f}\")\n",
        "    print(f\"Mean Squared Error (MSE): {mse_xgb:.2f}\")\n",
        "    print(f\"Root Mean Squared Error (RMSE): ₹{rmse_xgb:.2f}\")\n",
        "    print(f\"R-squared (R²): {r2_xgb:.4f}\")\n",
        "    # Prophet metrics\n",
        "    mae_prophet = mean_absolute_error(y_test, y_pred_prophet)\n",
        "    mse_prophet = mean_squared_error(y_test, y_pred_prophet)\n",
        "    rmse_prophet = np.sqrt(mse_prophet)\n",
        "    r2_prophet = r2_score(y_test, y_pred_prophet)\n",
        "    print(\"\\nProphet Evaluation Metrics (Test Set):\")\n",
        "    print(f\"Mean Absolute Error (MAE): ₹{mae_prophet:.2f}\")\n",
        "    print(f\"Mean Squared Error (MSE): {mse_prophet:.2f}\")\n",
        "    print(f\"Root Mean Squared Error (RMSE): ₹{rmse_prophet:.2f}\")\n",
        "    print(f\"R-squared (R²): {r2_prophet:.4f}\")\n",
        "    plt.figure(figsize=(12, 6))\n",
        "    plt.plot(test_df['Date'], y_test, label='Actual Prices', color='blue')\n",
        "    plt.plot(test_df['Date'], y_pred_xgb, label='XGBoost Predictions', color='red', linestyle='--')\n",
        "    plt.plot(test_df['Date'], y_pred_prophet, label='Prophet Predictions', color='green', linestyle='-.')\n",
        "    plt.title('Actual vs Predicted Gold Prices (Test Set)')\n",
        "    plt.xlabel('Date')\n",
        "    plt.ylabel('Close Price (₹ per gram)')\n",
        "    plt.legend()\n",
        "    plt.xticks(rotation=45)\n",
        "    plt.tight_layout()\n",
        "    plt.show()\n",
        "    # Train final model\n",
        "    X_full = scaler.fit_transform(df[features])\n",
        "    y_full = df['Close']\n",
        "    xgb_model = XGBRegressor(n_estimators=200, learning_rate=0.05, max_depth=5, random_state=42)\n",
        "    xgb_model.fit(X_full, y_full)\n",
        "    print(\"\\nXGBoost Feature Importance:\")\n",
        "    for feature, importance in zip(features, xgb_model.feature_importances_):\n",
        "        print(f\"{feature}: {importance:.4f}\")\n",
        "    return xgb_model, features, scaler\n",
        "\n",
        "def prepare_xgb_features(df, prophet_model, future_date, scaler, features):\n",
        "    future = pd.DataFrame({'ds': [pd.to_datetime(future_date)]})\n",
        "    forecast = prophet_model.predict(future)\n",
        "    prophet_pred = forecast[['ds', 'yhat', 'trend']].set_index('ds')\n",
        "    latest_data = df.tail(1).copy()\n",
        "    days_since_start = (pd.to_datetime(future_date) - df['Date'].min()).days\n",
        "    trend_value = df['Trend'].iloc[-1] + (df['Close'].iloc[-1] - df['Close'].iloc[-30]) / 30  # Linear trend continuation\n",
        "    feature_dict = {\n",
        "        'Days_Since_Start': days_since_start,\n",
        "        'Close_Lag1': latest_data['Close'].values[0],\n",
        "        'Close_Lag2': df['Close'].iloc[-2] if len(df) >= 2 else latest_data['Close'].values[0],\n",
        "        'Close_MA7': df['Close'].tail(7).mean(),\n",
        "        'Close_MA14': df['Close'].tail(14).mean(),\n",
        "        'Prophet_Pred': prophet_pred.loc[pd.to_datetime(future_date), 'yhat'],\n",
        "        'Prophet_Trend': prophet_pred.loc[pd.to_datetime(future_date), 'trend'],\n",
        "        'Trend': trend_value\n",
        "    }\n",
        "    future_features = pd.DataFrame([feature_dict])\n",
        "    return scaler.transform(future_features[features])\n",
        "\n",
        "def train_and_save_models(file_path, prophet_model_path='prophet_model.json', xgb_model_path='xgb_model.pkl'):\n",
        "    df = load_and_preprocess_data(file_path)\n",
        "    prophet_model, df = train_prophet_model(df)\n",
        "    xgb_model, xgb_features, scaler = train_and_evaluate_xgb_model(df)\n",
        "    with open(prophet_model_path, 'w') as f:\n",
        "        f.write(model_to_json(prophet_model))\n",
        "    with open(xgb_model_path, 'wb') as f:\n",
        "        pickle.dump(xgb_model, f)\n",
        "    with open('xgb_features.pkl', 'wb') as f:\n",
        "        pickle.dump(xgb_features, f)\n",
        "    with open('scaler.pkl', 'wb') as f:\n",
        "        pickle.dump(scaler, f)\n",
        "    with open('data.pkl', 'wb') as f:\n",
        "        pickle.dump(df, f)\n",
        "    print(f\"\\nModels and data saved to {prophet_model_path}, {xgb_model_path}, xgb_features.pkl, scaler.pkl, and data.pkl\")\n",
        "\n",
        "if __name__ == \"__main__\":\n",
        "    file_path = \"gold_price_in_inr.csv\"\n",
        "    try:\n",
        "        train_and_save_models(file_path)\n",
        "    except Exception as e:\n",
        "        print(f\"Error: {e}\")"
      ],
      "metadata": {
        "colab": {
          "base_uri": "https://localhost:8080/",
          "height": 1000
        },
        "id": "cTg7dA3fGnwF",
        "outputId": "8a3b23a7-a342-41cf-9092-9e56339c952e"
      },
      "execution_count": null,
      "outputs": [
        {
          "output_type": "stream",
          "name": "stderr",
          "text": [
            "DEBUG:cmdstanpy:input tempfile: /tmp/tmphrxsb6jp/4m0ext4u.json\n",
            "DEBUG:cmdstanpy:input tempfile: /tmp/tmphrxsb6jp/noodv_hm.json\n",
            "DEBUG:cmdstanpy:idx 0\n",
            "DEBUG:cmdstanpy:running CmdStan, num_threads: None\n",
            "DEBUG:cmdstanpy:CmdStan args: ['/usr/local/lib/python3.11/dist-packages/prophet/stan_model/prophet_model.bin', 'random', 'seed=41196', 'data', 'file=/tmp/tmphrxsb6jp/4m0ext4u.json', 'init=/tmp/tmphrxsb6jp/noodv_hm.json', 'output', 'file=/tmp/tmphrxsb6jp/prophet_model410dho4h/prophet_model-20250528054705.csv', 'method=optimize', 'algorithm=lbfgs', 'iter=10000']\n",
            "05:47:05 - cmdstanpy - INFO - Chain [1] start processing\n",
            "INFO:cmdstanpy:Chain [1] start processing\n",
            "05:47:16 - cmdstanpy - INFO - Chain [1] done processing\n",
            "INFO:cmdstanpy:Chain [1] done processing\n"
          ]
        },
        {
          "output_type": "stream",
          "name": "stdout",
          "text": [
            "\n",
            "XGBoost Evaluation Metrics (Test Set):\n",
            "Mean Absolute Error (MAE): ₹577.75\n",
            "Mean Squared Error (MSE): 714716.96\n",
            "Root Mean Squared Error (RMSE): ₹845.41\n",
            "R-squared (R²): -0.6482\n",
            "\n",
            "Prophet Evaluation Metrics (Test Set):\n",
            "Mean Absolute Error (MAE): ₹187.76\n",
            "Mean Squared Error (MSE): 50070.22\n",
            "Root Mean Squared Error (RMSE): ₹223.76\n",
            "R-squared (R²): 0.8845\n"
          ]
        },
        {
          "output_type": "display_data",
          "data": {
            "text/plain": [
              "<Figure size 1200x600 with 1 Axes>"
            ],
            "image/png": "[encoded data removed]"
          },
          "metadata": {}
        },
        {
          "output_type": "stream",
          "name": "stdout",
          "text": [
            "\n",
            "XGBoost Feature Importance:\n",
            "Days_Since_Start: 0.5200\n",
            "Close_Lag1: 0.3378\n",
            "Close_Lag2: 0.0198\n",
            "Close_MA7: 0.0284\n",
            "Close_MA14: 0.0011\n",
            "Prophet_Pred: 0.0016\n",
            "Prophet_Trend: 0.0001\n",
            "Trend: 0.0911\n",
            "\n",
            "Models and data saved to prophet_model.json, xgb_model.pkl, xgb_features.pkl, scaler.pkl, and data.pkl\n"
          ]
        }
      ]
    },
    {
      "cell_type": "code",
      "source": [
        "import pandas as pd\n",
        "import gradio as gr\n",
        "from prophet import Prophet\n",
        "from prophet.serialize import model_from_json\n",
        "import pickle\n",
        "from datetime import datetime\n",
        "\n",
        "def load_models_and_data(prophet_model_path='prophet_model.json', xgb_model_path='xgb_model.pkl',\n",
        "                         features_path='xgb_features.pkl', scaler_path='scaler.pkl', data_path='data.pkl'):\n",
        "    with open(prophet_model_path, 'r') as f:\n",
        "        prophet_model = model_from_json(f.read())\n",
        "    with open(xgb_model_path, 'rb') as f:\n",
        "        xgb_model = pickle.load(f)\n",
        "    with open(features_path, 'rb') as f:\n",
        "        xgb_features = pickle.load(f)\n",
        "    with open(scaler_path, 'rb') as f:\n",
        "        scaler = pickle.load(f)\n",
        "    with open(data_path, 'rb') as f:\n",
        "        df = pickle.load(f)\n",
        "    return prophet_model, xgb_model, xgb_features, scaler, df\n",
        "\n",
        "def prepare_xgb_features(df, prophet_model, future_date, scaler, features):\n",
        "    future = pd.DataFrame({'ds': [pd.to_datetime(future_date)]})\n",
        "    forecast = prophet_model.predict(future)\n",
        "    prophet_pred = forecast[['ds', 'yhat', 'trend']].set_index('ds')\n",
        "    latest_data = df.tail(1).copy()\n",
        "    days_since_start = (pd.to_datetime(future_date) - df['Date'].min()).days\n",
        "    trend_value = df['Trend'].iloc[-1] + (df['Close'].iloc[-1] - df['Close'].iloc[-30]) / 30\n",
        "    feature_dict = {\n",
        "        'Days_Since_Start': days_since_start,\n",
        "        'Close_Lag1': latest_data['Close'].values[0],\n",
        "        'Close_Lag2': df['Close'].iloc[-2] if len(df) >= 2 else latest_data['Close'].values[0],\n",
        "        'Close_MA7': df['Close'].tail(7).mean(),\n",
        "        'Close_MA14': df['Close'].tail(14).mean(),\n",
        "        'Prophet_Pred': prophet_pred.loc[pd.to_datetime(future_date), 'yhat'],\n",
        "        'Prophet_Trend': prophet_pred.loc[pd.to_datetime(future_date), 'trend'],\n",
        "        'Trend': trend_value\n",
        "    }\n",
        "    future_features = pd.DataFrame([feature_dict])\n",
        "    return scaler.transform(future_features[features])\n",
        "\n",
        "def predict_gold_price(quantity_grams, date_str):\n",
        "    try:\n",
        "        if quantity_grams <= 0:\n",
        "            return \"Quantity must be positive.\"\n",
        "        selected_date = pd.to_datetime(date_str)\n",
        "        min_date = pd.to_datetime(\"2025-05-21\")\n",
        "        max_date = pd.to_datetime(\"2026-05-31\")\n",
        "        if selected_date < min_date or selected_date > max_date:\n",
        "            return f\"Date must be between {min_date.strftime('%Y-%m-%d')} and {max_date.strftime('%Y-%m-%d')}.\"\n",
        "\n",
        "        prophet_model, xgb_model, xgb_features, scaler, df = load_models_and_data()\n",
        "        future_features = prepare_xgb_features(df, prophet_model, selected_date, scaler, xgb_features)\n",
        "        predicted_price = xgb_model.predict(future_features)[0]\n",
        "        total_price = predicted_price * quantity_grams\n",
        "        return (f\"Predicted gold price for {selected_date.strftime('%Y-%m-%d')}:\\n\"\n",
        "                f\"₹{predicted_price:.2f} per gram\\n\"\n",
        "                f\"Total price for {quantity_grams} grams: ₹{total_price:.2f}\")\n",
        "    except Exception as e:\n",
        "        return f\"Error: {str(e)}\"\n",
        "\n",
        "with gr.Blocks() as demo:\n",
        "    gr.Markdown(\"# Gold Price Predictor\")\n",
        "    gr.Markdown(\"Enter the quantity of gold (in grams) and select a date to predict the gold price.\")\n",
        "    quantity = gr.Number(label=\"Quantity (grams)\", value=10, minimum=0.1, step=0.1)\n",
        "    date = gr.Textbox(\n",
        "        label=\"Date (YYYY-MM-DD)\",\n",
        "        placeholder=\"Select a date between 2025-05-21 and 2026-05-31\",\n",
        "        info=\"Use the browser's date picker or enter the date manually.\"\n",
        "    )\n",
        "    output = gr.Textbox(label=\"Prediction\")\n",
        "    submit = gr.Button(\"Predict\")\n",
        "    submit.click(\n",
        "        fn=predict_gold_price,\n",
        "        inputs=[quantity, date],\n",
        "        outputs=output\n",
        "    )\n",
        "\n",
        "if __name__ == \"__main__\":\n",
        "    demo.launch()"
      ],
      "metadata": {
        "colab": {
          "base_uri": "https://localhost:8080/",
          "height": 646
        },
        "id": "Ex7UgGtqGntW",
        "outputId": "bdcded5d-ac98-4085-b5e8-6892637c50b6"
      },
      "execution_count": null,
      "outputs": [
        {
          "output_type": "stream",
          "name": "stdout",
          "text": [
            "It looks like you are running Gradio on a hosted a Jupyter notebook. For the Gradio app to work, sharing must be enabled. Automatically setting `share=True` (you can turn this off by setting `share=False` in `launch()` explicitly).\n",
            "\n",
            "Colab notebook detected. To show errors in colab notebook, set debug=True in launch()\n",
            "* Running on public URL: https://88dbf8d33809c48ab7.gradio.live\n",
            "\n",
            "This share link expires in 1 week. For free permanent hosting and GPU upgrades, run `gradio deploy` from the terminal in the working directory to deploy to Hugging Face Spaces (https://huggingface.co/spaces)\n"
          ]
        },
        {
          "output_type": "display_data",
          "data": {
            "text/plain": [
              "<IPython.core.display.HTML object>"
            ],
            "text/html": [
              "<div><iframe src=\"https://88dbf8d33809c48ab7.gradio.live\" width=\"100%\" height=\"500\" allow=\"autoplay; camera; microphone; clipboard-read; clipboard-write;\" frameborder=\"0\" allowfullscreen></iframe></div>"
            ]
          },
          "metadata": {}
        }
      ]
    },
    {
      "cell_type": "code",
      "source": [],
      "metadata": {
        "id": "jVmK-P6CYzx4"
      },
      "execution_count": null,
      "outputs": []
    }
  ]
}